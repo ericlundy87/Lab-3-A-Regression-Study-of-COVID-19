{
 "cells": [
  {
   "cell_type": "markdown",
   "metadata": {},
   "source": [
    "<h1> Lab 3: A Regression Study of COVID-19</h1>\n",
    "\n",
    "<h3> w203 Instructional Team </h3>\n",
    "\n",
    "# Introduction\n",
    "\n",
    "In this lab, you will apply what you are learning about linear regression to study the spread of COVID-19.  Your task is to select a research question, then conduct a regression study to analyize it. \n",
    "\n",
    "Your research question must focus attention on a specific measurement goal.  It is not enough to say \"we are looking for policies that help stop COVID-19\" (That would be a fishing expedition).  Instead, use your introduction to motivate a specific effect for measurment. \n",
    "\n",
    "Once you have a measurement goal, you will build a set of linear models that are tailored to that goal, and display them in a well formatted regression table.  You will finally use your conclusion to distill important conclusions from your estimates.\n",
    "\n",
    "This is a group assignment.  Your live session instructor will coordinate the formation of groups.\n",
    "\n",
    "When working in a group, do not use a \"division-of-labor\" approach to complete the lab.  All students should participate in all aspects of the final report.  We believe that this will maximize the value you derive from the lab.\n",
    "\n",
    "# Timeline\n",
    "\n",
    "The lab takes place in three stages.\n",
    "\n",
    "**Stage 1: Draft Report.**  You will create a draft report.\n",
    "\n",
    "**Stage 2: Peer Feedback.**  Teams will exchange reports and provide each other with feedback.\n",
    "\n",
    "**Stage 3: Final Report.**  You will incorporate the feedback you receive and create a final report.\n",
    "\n",
    "# Submission Instructions\n",
    "\n",
    "Please submit your answers in _one_ PDF and _one_ Jupyter Notebook or Rmd file.\n",
    "Only your answers in the PDF document will be considered for grading. The Jupyter Notebook is required to verify that any scripts that you have written can be executed.\n",
    "You are allowed to submit supplementary files such as images of handwritten notes imported into your Jupyter Notebook. Note, however, that no handwritten notes will be considered for grading.\n",
    "Finally, do _not_ upload your documents as one zipped file.\n",
    "\n",
    "\n",
    "# The Data\n",
    "\n",
    "The data is provided in a file within this repository.  Majid Maki-Nayeri compiled the data, drawing many variables from the COVID-19 US state policy database (Raifman J, Nocka K, Jones D, Bor J, Lipson S, Jay J, and Chan P. www.tinyurl.com/statepoliciesoriginates).\n",
    "\n",
    "The dataset includes (1) variables representing the spread of the disease, (2) variables representing state-level policy responses, and (3) general state-level characteristics.\n",
    "\n",
    "If you want to, you are allowed to add extra variables from external sources.  However, this is not necessary, and we will not assign any bonus points to teams that derive unique data, as our focus is on statistics and statistical writing."
   ]
  },
  {
   "cell_type": "markdown",
   "metadata": {},
   "source": [
    "# Stage 1: Draft Report - Due at Live Session 12\n",
    "\n",
    "In the first stage of the lab, you will create a draft report.  You should aim to make this report as complete as possible, so that you get the best possible feedback in stage 2.  (If you have extra time during these weeks, it will be beneficial to watch ahead in the async videos, as far as unit 12)\n",
    "\n",
    "The exact format of your report is flexible, but it must include the following elements:\n",
    "\n",
    "## 1. An Introduction\n",
    "\n",
    "Your introduction should present a research question and explain the concept that you're attempting to measure and how it will be operationalized.  This section should pave the way for the body of the report, preparing the reader to understand why the models are constructed the way that they are.  It is not enough to simply say \"We are looking for policies that help against covid.\"  Your introduction must do work for you, focusing the reader on a specific measurement goal, making them care about it, and propeling the narrative forward.  This is also good time to put your work into context, discuss cross-cutting issues, and assess the overall appropriateness of the data.\n",
    "\n",
    "## 2. A Model Building Process\n",
    "\n",
    "You will next build a set of models to investigate your research question, documenting your decisions.  Here are some things to keep in mind during your model building process:\n",
    "\n",
    "1. What do you want to measure?  Make sure you identify one, or a few, variables that will allow you to derive conclusions relevant to your research question, and include those variables in all model specifications.\n",
    "\n",
    "2. What covariates help you correctly and accurately measure a causal effect?  What covariates are problematic, either due to multicollinearity, or because they will absorb some of a causal effect you want to measure?\n",
    "\n",
    "3. What transformations should you apply to each variable?  This is very important because transformations can reveal linearities in the data, make our results relevant, or help us meet model assumptions.\n",
    "\n",
    "4. Are your choices supported by EDA?  You will likely start with some general EDA to detect anomalies (missing values, top-coded variables, etc.).  From then on, your EDA should be interspersed with your model building.  Use visual tools to guide your decisions.  You can also leverage statistical tests to help assess whether variables, or groups of variables, are improving model fit.\n",
    "\n",
    "At the same time, it is important to remember that you are not trying to create one perfect model.  You will create several specifications, giving the reader a sense of how robust your results are (how sensitive to modeling choices), and to show that you're not just cherry-picking the specification that leads to the largest effects.\n",
    "\n",
    "At a minimum, you should include the following three specifications:\n",
    "\n",
    "- One model with only the key variables you want to measure (possibly transformed, as determined by your EDA), and no other covariates (or perhaps one or at more two covariates if they are so crucial that it would be unreasonable to omit them)\n",
    "\n",
    "- One model that includes key explanatory variables and covariates that you believe advance your modeling goals without introducing too much multicollinearity or causing other issues.  This model should strike a balance between accuracy and parsimony and reflect your best understanding of the relationships among key variables.\n",
    "\n",
    "- One model that includes the previous covariates, and many other covariates, erring on the side of inclusion.  A key purpose of this model is to demonstrate the robustness of your results to model specification.  (However, you should still not include variables that are clearly unreasonable.  For example, don't include outcome variables that will absorb some of the causal effect you are interested in measuring)\n",
    "\n",
    "Guided by your background knowledge and your EDA, other specifications may make sense.  You are trying to choose points that encircle the space of reasonable modeling choices, to give an overall understanding of how these choices impact results.\n",
    "\n",
    "## 3. An Assessment of the CLM Assumptions\n",
    "\n",
    "For *one* of your model specifications, we would like to see a complete assessment of all 6 classical linear model assumptions.\n",
    "\n",
    "Use plots and other diagnostic tools to assess whether the assumptions appear to be violated, and follow best practices in responding to any violations you find.  \n",
    "\n",
    "Note that we only want to see this level of detail for one model specification.  For the other specifications, you should keep the CLM assumptions in mind, but only discuss them in your report if you encounter any major surprises.\n",
    "\n",
    "Note that you may need to change your model specifications in response to violations of the CLM.\n",
    "\n",
    "## 4. A Regression Table\n",
    "\n",
    "You should display all of your model specifications in a regression table, using a package like stargazer to format your output.  It should be easy for the reader to find the coefficients that represent key effects near the top of the regression table, and scan horizontally to see how they change from specification to specification.  Make sure that you display the most appropriate standard errors in your table, along with significance stars.\n",
    "\n",
    "In your text, comment on both statistical significance and practical significance.  You may want to include statistical tests besides the standard t-tests for regression coefficients.\n",
    "\n",
    "## 5. A Discussion of Omitted Variables\n",
    "\n",
    "Identify what you think are the 5-10 most important omitted variables that bias results you care about.  For each variable, you should estimate what direction the bias is in.  If you can argue whether the bias is large or small, that is even better.  State whether you have any variables available that may proxy (even imperfectly) for the omitted variable.   Pay particular attention to whether each omitted variable bias is towards zero or away from zero.  You will use this information to judge whether the effects you find are likely to be real, or whether they might be entirely an artifact of omitted variable bias.\n",
    "\n",
    "## 6. A Conclusion\n",
    "\n",
    "Make sure that you end your report with a discussion that distills key-takeaways from your estimates, addresses your research question, and draws attention to larger contexts.\n",
    "\n",
    "\n",
    "**Submission**\n",
    "\n",
    "Submit your lab via ISVC; please do not submit via email.\n",
    "\n",
    "Submit 2 files:\n",
    "\n",
    "1. A pdf file including the summary, the details of your analysis, and all the R codes used to produce the analysis. **Please do not suppress the code in your pdf file.**\n",
    "\n",
    "2. The Rmd or ipynb source file used to produce the pdf file.\n",
    "\n",
    "Each group only needs to submit one set of files.\n",
    "\n",
    "Be sure to include the names of all team members in your report.  Place the word 'draft' in the file names.\n",
    "\n",
    "Please limit your submission to 8000 words, excluding code cells and R output.\n",
    "\n",
    "\n",
    "# Stage 2: Peer Feedback - Due at Live Session 13\n",
    "\n",
    "In Stage 2, you will provide feedback on another team's draft report.  We will ask you to comment separately on different sections.  The following list is very similar to the rubric we will use when grading your final report.\n",
    "\n",
    "**1.0** Introduction.  Is the introduction clear? Is the research question specific and well defined?  Does the introduction motivate a specific concept to be measured and explain how it will be operationalized.  Does it do a good job of preparing the reader to understand the model specifications?\n",
    "\n",
    "**2.0** The Initial Data Loading and Cleaning.  Did the team notice any anomalous values?  Is there a sufficient justification for any data points that are removed?  Did the report note any coding features that affect the meaning of variables (e.g. top-coding or bottom-coding)?  Overall, does the report demonstrate a thorough understanding of the data?\n",
    "\n",
    "**3.0** The Model Building Process. Overall, is each step in the model building process supported by EDA?  Is the outcome variable (or variables) appropriate? Is there a thorough univariate analysis of the outcome variable? Did the team identify one, or a few, explanatory variables and perform a thorough univariate analysis of each one? Did the team clearly state why they chose these explanatory variables, does this explanation make sense in term of their research question? Did the team consider available variable transformations and select them with an eye towards model plausibility and interperability?  Are transformations used to expose linear relationships in scatterplots?  Is there enough explanation in the text to understand the meaning of each visualization?\n",
    "\n",
    "**4.0** Regression Models: Base Model. Does this model only include key explanatory variables?  Do the variables make sense given the measurement goals?  Did the team apply reasonable transformations to these variables, to capture the nature of the relationships?\n",
    "\n",
    "**4.1** Regression Model: Second Model. Does this model represent a balanced approach, including variables that advance modeling goals without causing major issues?  Does the model suceed in reducing standard errors of the key variables compared to the base model?  Does it capture major nonlinearities in the joint distribution of the variables?\n",
    "\n",
    "**4.2** Regression Model: Third Model.  Does this model represent a maximalist approach, erring on the side of including most variables?  Is it still a reasonable model?  Are there any variables that are outcomes, and should therefore still be excluded?  Is there too much multicolinearity, to the point that the key causal effects cannot be measured?\n",
    "\n",
    "**4.3** Assessment of the CLM.  Has the team assessed each of the CLM assumptions (including random sampling)?  Did they use visual tools or statistical tests, as appropriate?  Did they respond appropriately to any violations?\n",
    "\n",
    "**4.4** The Regression Table.  Are the model specifications properly chosen to outline the boundary of reasonable choices?  Is it easy to find key coefficients in the regression table?  Does the text include a discussion of practical significance for key effects? \n",
    "\n",
    "**5.0** The Omitted Variables Discussion.  Did the report miss any important sources of omitted variable bias?  Are the estimated directions of bias correct? Was their explanation clear?  Is the discussion connected to whether the key effects are real or whether they may be solely an artifact of omitted variable bias?\n",
    "\n",
    "**6.0** Conclusion.  Does the conclusion address the research question?  Does it raise interesting points beyond numerical estimates?  Does it place relevant context around the results?\n",
    "\n",
    "**7.0** Can you find any other errors, faulty logic, unclear or unpersuasive writing, or other elements that leave you less convinced by the conclusions?\n",
    "\n",
    "Please be thorough and read the report critically, actively trying to find weaknesses.  Your comments will directly help your peers get the most value out of the project.\n",
    "\n",
    "# Stage 3: Final Report - Due 24 at Live Session 14\n",
    "\n",
    "In the final stage of the project, you will incorporate the feedback you receive, and use what you've learned about OLS inference to create a final report.\n",
    "\n",
    "We will assess your final report using a rubric that includes the elements listed above.  We will also consider whether you have correctly included elements of statistical inference in your report.\n",
    "\n",
    "Please limit your submission to 8000 words, excluding code cells and R output.\n",
    "\n",
    "As above, you must submit both the source and pdf files.  Be sure to include the names of all team members in your report.  Place the word 'final' in the file names."
   ]
  },
  {
   "cell_type": "code",
   "execution_count": 8,
   "metadata": {},
   "outputs": [
    {
     "name": "stderr",
     "output_type": "stream",
     "text": [
      "also installing the dependencies ‘matrixStats’, ‘zip’, ‘SparseM’, ‘MatrixModels’, ‘conquer’, ‘sp’, ‘foreign’, ‘openxlsx’, ‘boot’, ‘minqa’, ‘nloptr’, ‘statmod’, ‘RcppEigen’, ‘carData’, ‘abind’, ‘pbkrtest’, ‘quantreg’, ‘maptools’, ‘rio’, ‘lme4’\n",
      "\n",
      "\n",
      "Updating HTML index of packages in '.Library'\n",
      "\n",
      "Making 'packages.html' ...\n",
      " done\n",
      "\n",
      "Updating HTML index of packages in '.Library'\n",
      "\n",
      "Making 'packages.html' ...\n",
      " done\n",
      "\n",
      "Updating HTML index of packages in '.Library'\n",
      "\n",
      "Making 'packages.html' ...\n",
      " done\n",
      "\n",
      "Updating HTML index of packages in '.Library'\n",
      "\n",
      "Making 'packages.html' ...\n",
      " done\n",
      "\n",
      "Updating HTML index of packages in '.Library'\n",
      "\n",
      "Making 'packages.html' ...\n",
      " done\n",
      "\n",
      "Updating HTML index of packages in '.Library'\n",
      "\n",
      "Making 'packages.html' ...\n",
      " done\n",
      "\n",
      "Updating HTML index of packages in '.Library'\n",
      "\n",
      "Making 'packages.html' ...\n",
      " done\n",
      "\n"
     ]
    }
   ],
   "source": [
    "install.packages(\"car\")\n",
    "install.packages(\"lmtest\")\n",
    "install.packages(\"sandwich\")\n",
    "install.packages(\"stargazer\")\n",
    "install.packages(\"stringr\")\n",
    "install.packages(\"ggplot2\")\n",
    "install.packages(\"gridExtra\")\n"
   ]
  },
  {
   "cell_type": "code",
   "execution_count": 10,
   "metadata": {},
   "outputs": [
    {
     "name": "stderr",
     "output_type": "stream",
     "text": [
      "Loading required package: carData\n",
      "\n",
      "Loading required package: zoo\n",
      "\n",
      "\n",
      "Attaching package: ‘zoo’\n",
      "\n",
      "\n",
      "The following objects are masked from ‘package:base’:\n",
      "\n",
      "    as.Date, as.Date.numeric\n",
      "\n",
      "\n",
      "\n",
      "Please cite as: \n",
      "\n",
      "\n",
      " Hlavac, Marek (2018). stargazer: Well-Formatted Regression and Summary Statistics Tables.\n",
      "\n",
      " R package version 5.2.2. https://CRAN.R-project.org/package=stargazer \n",
      "\n",
      "\n"
     ]
    },
    {
     "data": {
      "text/html": [
       "<table>\n",
       "<caption>A data.frame: 10 × 7</caption>\n",
       "<thead>\n",
       "\t<tr><th></th><th scope=col>State</th><th scope=col>Total.Cases</th><th scope=col>Mandate.face.mask.use.by.employees.in.public.facing.businesses</th><th scope=col>Fixed_Mandate_Face_Mask</th><th scope=col>Population.density.per.square.miles</th><th scope=col>First_Case_Date</th><th scope=col>Days_till_mask_was_Mandated</th></tr>\n",
       "\t<tr><th></th><th scope=col>&lt;chr&gt;</th><th scope=col>&lt;int&gt;</th><th scope=col>&lt;chr&gt;</th><th scope=col>&lt;chr&gt;</th><th scope=col>&lt;dbl&gt;</th><th scope=col>&lt;chr&gt;</th><th scope=col>&lt;int&gt;</th></tr>\n",
       "</thead>\n",
       "<tbody>\n",
       "\t<tr><th scope=row>1</th><td>Alabama             </td><td> 44909</td><td>5/11/20</td><td>5/11/20</td><td>   93.24</td><td>3/13/20</td><td> 59</td></tr>\n",
       "\t<tr><th scope=row>2</th><td>Alaska              </td><td>  1138</td><td>4/24/20</td><td>4/24/20</td><td>    1.11</td><td>3/12/20</td><td> 43</td></tr>\n",
       "\t<tr><th scope=row>3</th><td>Arizona             </td><td> 83376</td><td>5/8/20 </td><td>5/8/20 </td><td>   62.91</td><td>1/26/20</td><td>103</td></tr>\n",
       "\t<tr><th scope=row>4</th><td>arizona             </td><td> 14713</td><td>5/8/20 </td><td>5/8/20 </td><td>   62.91</td><td>1/26/20</td><td>103</td></tr>\n",
       "\t<tr><th scope=row>5</th><td>Arkansas            </td><td> 23814</td><td>5/11/20</td><td>5/11/20</td><td>   56.67</td><td>3/11/20</td><td> 61</td></tr>\n",
       "\t<tr><th scope=row>6</th><td>California          </td><td>260155</td><td>5/5/20 </td><td>5/5/20 </td><td>  241.65</td><td>1/25/20</td><td>101</td></tr>\n",
       "\t<tr><th scope=row>7</th><td>Colorado            </td><td> 34065</td><td>4/23/20</td><td>4/23/20</td><td>   54.72</td><td>3/5/20 </td><td> 49</td></tr>\n",
       "\t<tr><th scope=row>8</th><td>Connecticut         </td><td> 46717</td><td>4/3/20 </td><td>4/3/20 </td><td>  644.54</td><td>3/8/20 </td><td> 26</td></tr>\n",
       "\t<tr><th scope=row>9</th><td>Delaware            </td><td> 12348</td><td>5/1/20 </td><td>5/1/20 </td><td>  388.58</td><td>3/11/20</td><td> 51</td></tr>\n",
       "\t<tr><th scope=row>10</th><td>District of Columbia</td><td> 10482</td><td>4/15/20</td><td>4/15/20</td><td>11496.81</td><td>3/7/20 </td><td> 39</td></tr>\n",
       "</tbody>\n",
       "</table>\n"
      ],
      "text/latex": [
       "A data.frame: 10 × 7\n",
       "\\begin{tabular}{r|lllllll}\n",
       "  & State & Total.Cases & Mandate.face.mask.use.by.employees.in.public.facing.businesses & Fixed\\_Mandate\\_Face\\_Mask & Population.density.per.square.miles & First\\_Case\\_Date & Days\\_till\\_mask\\_was\\_Mandated\\\\\n",
       "  & <chr> & <int> & <chr> & <chr> & <dbl> & <chr> & <int>\\\\\n",
       "\\hline\n",
       "\t1 & Alabama              &  44909 & 5/11/20 & 5/11/20 &    93.24 & 3/13/20 &  59\\\\\n",
       "\t2 & Alaska               &   1138 & 4/24/20 & 4/24/20 &     1.11 & 3/12/20 &  43\\\\\n",
       "\t3 & Arizona              &  83376 & 5/8/20  & 5/8/20  &    62.91 & 1/26/20 & 103\\\\\n",
       "\t4 & arizona              &  14713 & 5/8/20  & 5/8/20  &    62.91 & 1/26/20 & 103\\\\\n",
       "\t5 & Arkansas             &  23814 & 5/11/20 & 5/11/20 &    56.67 & 3/11/20 &  61\\\\\n",
       "\t6 & California           & 260155 & 5/5/20  & 5/5/20  &   241.65 & 1/25/20 & 101\\\\\n",
       "\t7 & Colorado             &  34065 & 4/23/20 & 4/23/20 &    54.72 & 3/5/20  &  49\\\\\n",
       "\t8 & Connecticut          &  46717 & 4/3/20  & 4/3/20  &   644.54 & 3/8/20  &  26\\\\\n",
       "\t9 & Delaware             &  12348 & 5/1/20  & 5/1/20  &   388.58 & 3/11/20 &  51\\\\\n",
       "\t10 & District of Columbia &  10482 & 4/15/20 & 4/15/20 & 11496.81 & 3/7/20  &  39\\\\\n",
       "\\end{tabular}\n"
      ],
      "text/markdown": [
       "\n",
       "A data.frame: 10 × 7\n",
       "\n",
       "| <!--/--> | State &lt;chr&gt; | Total.Cases &lt;int&gt; | Mandate.face.mask.use.by.employees.in.public.facing.businesses &lt;chr&gt; | Fixed_Mandate_Face_Mask &lt;chr&gt; | Population.density.per.square.miles &lt;dbl&gt; | First_Case_Date &lt;chr&gt; | Days_till_mask_was_Mandated &lt;int&gt; |\n",
       "|---|---|---|---|---|---|---|---|\n",
       "| 1 | Alabama              |  44909 | 5/11/20 | 5/11/20 |    93.24 | 3/13/20 |  59 |\n",
       "| 2 | Alaska               |   1138 | 4/24/20 | 4/24/20 |     1.11 | 3/12/20 |  43 |\n",
       "| 3 | Arizona              |  83376 | 5/8/20  | 5/8/20  |    62.91 | 1/26/20 | 103 |\n",
       "| 4 | arizona              |  14713 | 5/8/20  | 5/8/20  |    62.91 | 1/26/20 | 103 |\n",
       "| 5 | Arkansas             |  23814 | 5/11/20 | 5/11/20 |    56.67 | 3/11/20 |  61 |\n",
       "| 6 | California           | 260155 | 5/5/20  | 5/5/20  |   241.65 | 1/25/20 | 101 |\n",
       "| 7 | Colorado             |  34065 | 4/23/20 | 4/23/20 |    54.72 | 3/5/20  |  49 |\n",
       "| 8 | Connecticut          |  46717 | 4/3/20  | 4/3/20  |   644.54 | 3/8/20  |  26 |\n",
       "| 9 | Delaware             |  12348 | 5/1/20  | 5/1/20  |   388.58 | 3/11/20 |  51 |\n",
       "| 10 | District of Columbia |  10482 | 4/15/20 | 4/15/20 | 11496.81 | 3/7/20  |  39 |\n",
       "\n"
      ],
      "text/plain": [
       "   State                Total.Cases\n",
       "1  Alabama               44909     \n",
       "2  Alaska                 1138     \n",
       "3  Arizona               83376     \n",
       "4  arizona               14713     \n",
       "5  Arkansas              23814     \n",
       "6  California           260155     \n",
       "7  Colorado              34065     \n",
       "8  Connecticut           46717     \n",
       "9  Delaware              12348     \n",
       "10 District of Columbia  10482     \n",
       "   Mandate.face.mask.use.by.employees.in.public.facing.businesses\n",
       "1  5/11/20                                                       \n",
       "2  4/24/20                                                       \n",
       "3  5/8/20                                                        \n",
       "4  5/8/20                                                        \n",
       "5  5/11/20                                                       \n",
       "6  5/5/20                                                        \n",
       "7  4/23/20                                                       \n",
       "8  4/3/20                                                        \n",
       "9  5/1/20                                                        \n",
       "10 4/15/20                                                       \n",
       "   Fixed_Mandate_Face_Mask Population.density.per.square.miles First_Case_Date\n",
       "1  5/11/20                    93.24                            3/13/20        \n",
       "2  4/24/20                     1.11                            3/12/20        \n",
       "3  5/8/20                     62.91                            1/26/20        \n",
       "4  5/8/20                     62.91                            1/26/20        \n",
       "5  5/11/20                    56.67                            3/11/20        \n",
       "6  5/5/20                    241.65                            1/25/20        \n",
       "7  4/23/20                    54.72                            3/5/20         \n",
       "8  4/3/20                    644.54                            3/8/20         \n",
       "9  5/1/20                    388.58                            3/11/20        \n",
       "10 4/15/20                 11496.81                            3/7/20         \n",
       "   Days_till_mask_was_Mandated\n",
       "1   59                        \n",
       "2   43                        \n",
       "3  103                        \n",
       "4  103                        \n",
       "5   61                        \n",
       "6  101                        \n",
       "7   49                        \n",
       "8   26                        \n",
       "9   51                        \n",
       "10  39                        "
      ]
     },
     "metadata": {},
     "output_type": "display_data"
    }
   ],
   "source": [
    "library(car)\n",
    "library(lmtest)\n",
    "library(sandwich)\n",
    "library(stargazer)\n",
    "library(stringr)\n",
    "library(ggplot2)\n",
    "library(gridExtra)\n",
    "\n",
    "dataSet = read.csv(\"covid-19_dataset.csv\")  # read csv file\n",
    "head(dataSet[c(1, 2, 13, 14, 16, 27, 28)], n = 10) #view the first few rows of data to get a feel for it"
   ]
  },
  {
   "cell_type": "markdown",
   "metadata": {},
   "source": [
    "## 1. An Introduction\n",
    "    According to The Center for Disease Control and Prevention (CDC) \"COVID-19 is mostly spread by respiratory droplets released when people talk, cough, or sneeze.\" Due to the rapid spread and high mortality rate of COVID-19 the CDC recommends people:\n",
    "    \n",
    "        1. Wash your hands often\n",
    "        2. Avoid close contact\n",
    "        3. Cover your mouth and nose with a cloth face cover when around others   \n",
    "        4. Cover coughs and sneezes\n",
    "        5. Clean and disinfect\n",
    "        6. Monitor Your Health Daily\n",
    "        \n",
    "    In the United State number 3 from the list above is a controversial guideline. Some citizens believe that requiring a mask in public places is an attack on their personal freedom while others believe that simply wearing a mask could save lives. This leads us to our research question, does wearing a mask help prevent the spread of COVID-19?\n",
    "    \n",
    "    We are operationalizing this definition by assuming that more people wear masks in states that mandate face masks be used by employees in public-facing businesses. We also assume that a higher number of cases per square mile is related is a good indicator of the spread of the COVID-19. Finally, we are taking the number of days between the first day a case of COVID-19 was found in a state to when they mandated face masks be worn as a way of measuring how masks are actually effecting the spread of COVID-19.\n",
    "    \n",
    "## 2. A Model Building Process\n",
    "    1. What do you want to measure?\n",
    "        - How many people have COVID-19 by state\n",
    "        - The number of days between first case of COVID-19 and government mandate of masks.\n",
    "        - State population density.\n",
    "    2. What covariates help you correctly and accurately measure a causal effect?\n",
    "        - A problematic covariate is state population density. From point two in our introduction we know that the CDC believes that avoiding close contact has an impact on whether people catch COVID-19. We will use population density in an effort to normalize the effects of how close people are to each other.\n",
    "        - Covariates that may help us accurately predict the number of COVID-19 cases are age, percent at risk, and percent tested. We will not be including any of these in our model since we are not interested in there effects on the total number of cases. Including these variables would most likely improve our model by taking these covariates out of our error term. We will treat these as omitted variables and discuss them more later in section 5 of this analysis."
   ]
  },
  {
   "cell_type": "code",
   "execution_count": 6,
   "metadata": {},
   "outputs": [
    {
     "data": {
      "text/plain": [
       "   Min. 1st Qu.  Median    Mean 3rd Qu.    Max. \n",
       "  26.00   48.00   60.50   73.46  103.00  148.00 "
      ]
     },
     "metadata": {},
     "output_type": "display_data"
    },
    {
     "data": {
      "text/plain": [
       "   Min. 1st Qu.  Median    Mean 3rd Qu.    Max. \n",
       "    939   11882   31305   55332   67052  398828 "
      ]
     },
     "metadata": {},
     "output_type": "display_data"
    },
    {
     "data": {
      "image/png": "[encoded data removed]",
      "text/plain": [
       "Plot with title “Scatterplot Total.Cases vs Days_till_mask_was_Mandated”"
      ]
     },
     "metadata": {
      "image/png": {
       "height": 420,
       "width": 420
      },
      "text/plain": {
       "height": 420,
       "width": 420
      }
     },
     "output_type": "display_data"
    },
    {
     "data": {
      "text/html": [
       "<table>\n",
       "<caption>A data.frame: 6 × 3</caption>\n",
       "<thead>\n",
       "\t<tr><th></th><th scope=col>State</th><th scope=col>Adj_Total_Cases</th><th scope=col>Days_till_mask_was_Mandated</th></tr>\n",
       "\t<tr><th></th><th scope=col>&lt;chr&gt;</th><th scope=col>&lt;dbl&gt;</th><th scope=col>&lt;int&gt;</th></tr>\n",
       "</thead>\n",
       "<tbody>\n",
       "\t<tr><th scope=row>1</th><td>Alabama   </td><td> 481.6495</td><td> 59</td></tr>\n",
       "\t<tr><th scope=row>2</th><td>Alaska    </td><td>1025.2252</td><td> 43</td></tr>\n",
       "\t<tr><th scope=row>3</th><td>Arizona   </td><td>1325.3219</td><td>103</td></tr>\n",
       "\t<tr><th scope=row>5</th><td>Arkansas  </td><td> 420.2223</td><td> 61</td></tr>\n",
       "\t<tr><th scope=row>6</th><td>California</td><td>1076.5777</td><td>101</td></tr>\n",
       "\t<tr><th scope=row>7</th><td>Colorado  </td><td> 622.5329</td><td> 49</td></tr>\n",
       "</tbody>\n",
       "</table>\n"
      ],
      "text/latex": [
       "A data.frame: 6 × 3\n",
       "\\begin{tabular}{r|lll}\n",
       "  & State & Adj\\_Total\\_Cases & Days\\_till\\_mask\\_was\\_Mandated\\\\\n",
       "  & <chr> & <dbl> & <int>\\\\\n",
       "\\hline\n",
       "\t1 & Alabama    &  481.6495 &  59\\\\\n",
       "\t2 & Alaska     & 1025.2252 &  43\\\\\n",
       "\t3 & Arizona    & 1325.3219 & 103\\\\\n",
       "\t5 & Arkansas   &  420.2223 &  61\\\\\n",
       "\t6 & California & 1076.5777 & 101\\\\\n",
       "\t7 & Colorado   &  622.5329 &  49\\\\\n",
       "\\end{tabular}\n"
      ],
      "text/markdown": [
       "\n",
       "A data.frame: 6 × 3\n",
       "\n",
       "| <!--/--> | State &lt;chr&gt; | Adj_Total_Cases &lt;dbl&gt; | Days_till_mask_was_Mandated &lt;int&gt; |\n",
       "|---|---|---|---|\n",
       "| 1 | Alabama    |  481.6495 |  59 |\n",
       "| 2 | Alaska     | 1025.2252 |  43 |\n",
       "| 3 | Arizona    | 1325.3219 | 103 |\n",
       "| 5 | Arkansas   |  420.2223 |  61 |\n",
       "| 6 | California | 1076.5777 | 101 |\n",
       "| 7 | Colorado   |  622.5329 |  49 |\n",
       "\n"
      ],
      "text/plain": [
       "  State      Adj_Total_Cases Days_till_mask_was_Mandated\n",
       "1 Alabama     481.6495        59                        \n",
       "2 Alaska     1025.2252        43                        \n",
       "3 Arizona    1325.3219       103                        \n",
       "5 Arkansas    420.2223        61                        \n",
       "6 California 1076.5777       101                        \n",
       "7 Colorado    622.5329        49                        "
      ]
     },
     "metadata": {},
     "output_type": "display_data"
    },
    {
     "data": {
      "image/png": "[encoded data removed]",
      "text/plain": [
       "Plot with title “Scatterplot log(Total.Cases/population density) vs Days_till_mask_was_Mandated”"
      ]
     },
     "metadata": {
      "image/png": {
       "height": 420,
       "width": 420
      },
      "text/plain": {
       "height": 420,
       "width": 420
      }
     },
     "output_type": "display_data"
    }
   ],
   "source": [
    "#To obtain the Days_till_mask_was_Mandated variable We had to first find the first case of covid per state.\n",
    "#Then we had to correct the 0 in the Mandate.face.mask.use.by.employees.in.public.facing.businesses and set them\n",
    "# to 7/2/2020 since that was the day the data was updated. Finally we subtracted the the intitial covid date \n",
    "# from the Fixed_Mandate_Face_Mask date to get the Days_till_mask_was_Mandated\n",
    "summary(dataSet$Days_till_mask_was_Mandated)\n",
    "summary(dataSet$Total.Cases)\n",
    "plot(dataSet$Total.Cases, dataSet$Days_till_mask_was_Mandated, main=\"Scatterplot Total.Cases vs Days_till_mask_was_Mandated\", xlab=\"Cases\", ylab=\"Days\", pch=19)\n",
    "plot(log(dataSet$Total.Cases/dataSet$Population.density.per.square.miles), dataSet$Days_till_mask_was_Mandated, main=\"Scatterplot log(Total.Cases/population density) vs Days_till_mask_was_Mandated\", xlab=\"log(Cases/Density)\", ylab=\"Days\", pch=19)\n",
    "newDataSet <- dataSet[-c(4),] #remove the new duplicate row for arizona. After doing some research row 4 is the incorrect row\n",
    "newDataSet <- newDataSet[c(1, 2, 13, 14, 16, 27, 28)]\n",
    "newDataSet <- transform(newDataSet, Adj_Total_Cases = Total.Cases / Population.density.per.square.miles)\n",
    "newDataSet <- newDataSet[c(1,8, 7)]\n",
    "head(newDataSet)"
   ]
  },
  {
   "cell_type": "markdown",
   "metadata": {},
   "source": [
    "    3. What transformations should you apply to each variable?\n",
    "        - Looking at the scatter plot we have decided to divide the total number of cases by the population density per square mile. We believe this should help account for people who live in highly populated states being difficult to observe social distancing. We also are applying the natural log to Total.Cases / Population.density.per.square.miles. This will help scale the variable since the number of cases is high compared to the days before the mandate.\n",
    "    4. Are your choices supported by EDA?\n",
    "        - Looking at the scatter plot supports our decisions for variable transformations"
   ]
  },
  {
   "cell_type": "code",
   "execution_count": 8,
   "metadata": {},
   "outputs": [
    {
     "data": {
      "text/plain": [
       "\n",
       "Call:\n",
       "lm(formula = log(Adj_Total_Cases) ~ Days_till_mask_was_Mandated, \n",
       "    data = newDataSet)\n",
       "\n",
       "Coefficients:\n",
       "                (Intercept)  Days_till_mask_was_Mandated  \n",
       "                    4.39274                      0.01605  \n"
      ]
     },
     "metadata": {},
     "output_type": "display_data"
    },
    {
     "data": {
      "text/plain": [
       "\n",
       "t test of coefficients:\n",
       "\n",
       "                             Estimate Std. Error t value  Pr(>|t|)    \n",
       "(Intercept)                 4.3927408  0.5984208  7.3406 1.972e-09 ***\n",
       "Days_till_mask_was_Mandated 0.0160492  0.0061891  2.5932    0.0125 *  \n",
       "---\n",
       "Signif. codes:  0 ‘***’ 0.001 ‘**’ 0.01 ‘*’ 0.05 ‘.’ 0.1 ‘ ’ 1\n"
      ]
     },
     "metadata": {},
     "output_type": "display_data"
    },
    {
     "data": {
      "image/png": "[encoded data removed]",
      "text/plain": [
       "Plot with title “”"
      ]
     },
     "metadata": {
      "image/png": {
       "height": 420,
       "width": 420
      },
      "text/plain": {
       "height": 420,
       "width": 420
      }
     },
     "output_type": "display_data"
    },
    {
     "data": {
      "image/png": "[encoded data removed]",
      "text/plain": [
       "Plot with title “”"
      ]
     },
     "metadata": {
      "image/png": {
       "height": 420,
       "width": 420
      },
      "text/plain": {
       "height": 420,
       "width": 420
      }
     },
     "output_type": "display_data"
    },
    {
     "data": {
      "image/png": "[encoded data removed]",
      "text/plain": [
       "Plot with title “”"
      ]
     },
     "metadata": {
      "image/png": {
       "height": 420,
       "width": 420
      },
      "text/plain": {
       "height": 420,
       "width": 420
      }
     },
     "output_type": "display_data"
    },
    {
     "data": {
      "image/png": "[encoded data removed]",
      "text/plain": [
       "Plot with title “Residuals for Linear model predicting views”"
      ]
     },
     "metadata": {
      "image/png": {
       "height": 420,
       "width": 420
      },
      "text/plain": {
       "height": 420,
       "width": 420
      }
     },
     "output_type": "display_data"
    }
   ],
   "source": [
    "model = lm(log(Adj_Total_Cases)~Days_till_mask_was_Mandated, data=newDataSet)\n",
    "model\n",
    "coeftest(model, vcov = vcovHC) #Needed for heteroskedasticity\n",
    "se_model <- sqrt(diag(vcovHC(model))) #Needed for heteroskedasticity\n",
    "plot(model, which = 1) # Zero-conditional mean\n",
    "plot(model, which = 3) # Homoskedasticity\n",
    "plot(model, which = 2) # Normality of Errors\n",
    "hist(model$residuals, breaks=20, main=\"Residuals for Linear model predicting views\")"
   ]
  },
  {
   "cell_type": "markdown",
   "metadata": {},
   "source": [
    "## 3. An Assessment of the CLM Assumptions\n",
    "    **1. Linear population model** - There is no way to check this assumption because we do not know what is actually happening in the population. So we assume this assumption is true. If it is not true we will still be finding the best linear model to the data.\n",
    "    \n",
    "    **2. Random Sampling** - \n",
    "        \n",
    "    **3. No perfect multicollinearity** - Since R actually created the model and did not throw an error indicating that we have variables with multicollinearity. We know that we satisfy this assumption.\n",
    "    \n",
    "    **4. Zero-conditional mean** - Looking at the Residuals vs Fitted graph above we see that we do not have a straight line at 0. The line has a downward slope on the left and right hand side of the graph. This a violation of the zero conditional mean assumption.\n",
    "    \n",
    "    - Omitted Variable:\n",
    "    \n",
    "    \n",
    "    **5. Homoskedasticity** - Looking at the scale-location the homoskedasticity assumption does not hold. So we use the coefficient from the coeftest from the se_model for robust standard errors.\n",
    "    \n",
    "    **6. Normality of Errors** - Looking at the Normal Q-Q plot above we cans see that our model is fairly not normal. We plotted the residuals of the linear model of to ensure our distribution is not extremely skewed. Our distribution is not extremely skew and we have a large number of observations (>30) we can apply the central limit theorem. Thus the normally distributed error assumption is true.\n",
    "## 4. A Regression Table"
   ]
  },
  {
   "cell_type": "code",
   "execution_count": 84,
   "metadata": {},
   "outputs": [
    {
     "name": "stdout",
     "output_type": "stream",
     "text": [
      "\n",
      "=========================================================\n",
      "                                 Dependent variable:     \n",
      "                            -----------------------------\n",
      "                                   Adj_Total_Cases       \n",
      "---------------------------------------------------------\n",
      "Days_till_mask_was_Mandated             2.100            \n",
      "                                                         \n",
      "                                                         \n",
      "Constant                              292.676*           \n",
      "                                      p = 0.015          \n",
      "                                                         \n",
      "---------------------------------------------------------\n",
      "Observations                             51              \n",
      "R2                                      0.030            \n",
      "Adjusted R2                             0.010            \n",
      "Residual Std. Error               368.828 (df = 49)      \n",
      "=========================================================\n",
      "Note:                       *p<0.05; **p<0.01; ***p<0.001\n"
     ]
    },
    {
     "data": {
      "text/plain": [
       "\n",
       "t test of coefficients:\n",
       "\n",
       "                            Estimate Std. Error t value Pr(>|t|)  \n",
       "(Intercept)                 292.6758   119.1556  2.4562  0.01763 *\n",
       "Days_till_mask_was_Mandated   2.1002     1.5022  1.3981  0.16838  \n",
       "---\n",
       "Signif. codes:  0 ‘***’ 0.001 ‘**’ 0.01 ‘*’ 0.05 ‘.’ 0.1 ‘ ’ 1\n"
      ]
     },
     "metadata": {},
     "output_type": "display_data"
    }
   ],
   "source": [
    "#Use the stargazer package to create the regression table\n",
    "stargazer(model, type = \"text\", omit.stat = \"f\",\n",
    "          se = se_model, #Using the robust standard error\n",
    "          report=('vc*p'),\n",
    "          star.cutoffs = c(0.05, 0.01, 0.001))\n",
    "\n",
    "# Stargzer is not showing how the p-values for rate and log(length) but we can see them using the coeftest\n",
    "coeftest(model, vcov = vcovHC)"
   ]
  },
  {
   "cell_type": "markdown",
   "metadata": {},
   "source": [
    "## 5. A Discussion of Omitted Variables\n",
    "## 6. A Conclusion"
   ]
  },
  {
   "cell_type": "markdown",
   "metadata": {},
   "source": [
    "# Model Building Process\n",
    "\n",
    "## Data Identification and Operationalization\n",
    "\n",
    "Let's examine all data from the dataset provided"
   ]
  },
  {
   "cell_type": "code",
   "execution_count": 17,
   "metadata": {},
   "outputs": [
    {
     "data": {
      "text/html": [
       "<style>\n",
       ".dl-inline {width: auto; margin:0; padding: 0}\n",
       ".dl-inline>dt, .dl-inline>dd {float: none; width: auto; display: inline-block}\n",
       ".dl-inline>dt::after {content: \":\\0020\"; padding-right: .5ex}\n",
       ".dl-inline>dt:not(:first-of-type) {padding-left: .5ex}\n",
       "</style><dl class=dl-inline><dt>State</dt><dd>'Alabama, Alaska, Arizona, arizona, Arkansas, California'</dd><dt>Total.Cases</dt><dd>'44909, 1138, 83376, 14713, 23814, 260155'</dd><dt>Total.Death</dt><dd>'1009, 16, 1538, 271, 287, 6331'</dd><dt>Death_100k</dt><dd>'20.6, 2.2, 25.2, 25.2, 9.5, 16'</dd><dt>CasesInLast7Days</dt><dd>'9804, 284, 28038, 28038, 4504, 53722'</dd><dt>RatePer100000</dt><dd>'918.8, 154.3, 1367.7, 1367.7, 790.2, 657.7'</dd><dt>totalTestResults</dt><dd>'449886, 122732, 604362, 604362, 338893, 4680138'</dd><dt>State.of.emergency</dt><dd>'3/13/20, 3/11/20, 3/11/20, 3/11/20, 3/11/20, 3/4/20'</dd><dt>Stay.at.home..shelter.in.place</dt><dd>'4/4/20, 3/28/20, 3/31/20, 3/31/20, 0, 3/19/20'</dd><dt>End.relax.stay.at.home.shelter.in.place</dt><dd>'4/30/20, 4/24/20, 5/16/20, 5/16/20, 0, 0'</dd><dt>Closed.non.essential.businesses</dt><dd>'3/28/20, 3/28/20, 3/30/20, 3/30/20, 0, 3/19/20'</dd><dt>Began.to.reopen.businesses.statewide</dt><dd>'4/30/20, 4/24/20, 5/8/20, 5/8/20, 5/4/20, 5/8/20'</dd><dt>Mandate.face.mask.use.by.employees.in.public.facing.businesses</dt><dd>'5/11/20, 4/24/20, 5/8/20, 5/8/20, 5/11/20, 5/5/20'</dd><dt>Fixed_Mandate_Face_Mask</dt><dd>'5/11/20, 4/24/20, 5/8/20, 5/8/20, 5/11/20, 5/5/20'</dd><dt>Weekly.unemployment.insurance.maximum.amount..dollars.</dt><dd>'275, 370, 240, 240, 451, 450'</dd><dt>Population.density.per.square.miles</dt><dd>'93.24, 1.11, 62.91, 62.91, 56.67, 241.65'</dd><dt>Population.2018</dt><dd>'4887871, 737438, 7171646, 7171646, 3013825, 39557045'</dd><dt>Percent.living.under.the.federal.poverty.line..2018.</dt><dd>'16.8, 10.9, 14, 14, 17.2, 12.8'</dd><dt>Percent.at.risk.for.serious.illness.due.to.COVID</dt><dd>'43.1, 32.8, 39.1, 39.1, 43.5, 33.3'</dd><dt>All.cause.deaths.2018</dt><dd>'54352, 4453, 59282, 59282, 32336, 268818'</dd><dt>Children.0.18</dt><dd>'0.24, 0.27, 0.24, 0.24, 0.25, 0.24'</dd><dt>Adults.19.25</dt><dd>'0.09, 0.09, 0.09, 0.09, 0.09, 0.09'</dd><dt>Adults.26.34</dt><dd>'0.12, 0.13, 0.12, 0.12, 0.12, 0.14'</dd><dt>Adults.35.54</dt><dd>'0.25, 0.26, 0.24, 0.24, 0.25, 0.26'</dd><dt>Adults.55.64</dt><dd>'0.14, 0.13, 0.12, 0.12, 0.13, 0.12'</dd><dt>X65.</dt><dd>'0.17, 0.12, 0.18, 0.18, 0.17, 0.14'</dd><dt>First_Case_Date</dt><dd>'3/13/20, 3/12/20, 1/26/20, 1/26/20, 3/11/20, 1/25/20'</dd><dt>Days_till_mask_was_Mandated</dt><dd>'59, 43, 103, 103, 61, 101'</dd><dt>days_since_reopen</dt><dd>'33, 27, 39, 39, 39, 50'</dd><dt>days_shelter_inplace</dt><dd>'26, 27, 46, 46, 0, 106'</dd></dl>\n"
      ],
      "text/latex": [
       "\\begin{description*}\n",
       "\\item[State] 'Alabama, Alaska, Arizona, arizona, Arkansas, California'\n",
       "\\item[Total.Cases] '44909, 1138, 83376, 14713, 23814, 260155'\n",
       "\\item[Total.Death] '1009, 16, 1538, 271, 287, 6331'\n",
       "\\item[Death\\textbackslash{}\\_100k] '20.6, 2.2, 25.2, 25.2, 9.5, 16'\n",
       "\\item[CasesInLast7Days] '9804, 284, 28038, 28038, 4504, 53722'\n",
       "\\item[RatePer100000] '918.8, 154.3, 1367.7, 1367.7, 790.2, 657.7'\n",
       "\\item[totalTestResults] '449886, 122732, 604362, 604362, 338893, 4680138'\n",
       "\\item[State.of.emergency] '3/13/20, 3/11/20, 3/11/20, 3/11/20, 3/11/20, 3/4/20'\n",
       "\\item[Stay.at.home..shelter.in.place] '4/4/20, 3/28/20, 3/31/20, 3/31/20, 0, 3/19/20'\n",
       "\\item[End.relax.stay.at.home.shelter.in.place] '4/30/20, 4/24/20, 5/16/20, 5/16/20, 0, 0'\n",
       "\\item[Closed.non.essential.businesses] '3/28/20, 3/28/20, 3/30/20, 3/30/20, 0, 3/19/20'\n",
       "\\item[Began.to.reopen.businesses.statewide] '4/30/20, 4/24/20, 5/8/20, 5/8/20, 5/4/20, 5/8/20'\n",
       "\\item[Mandate.face.mask.use.by.employees.in.public.facing.businesses] '5/11/20, 4/24/20, 5/8/20, 5/8/20, 5/11/20, 5/5/20'\n",
       "\\item[Fixed\\textbackslash{}\\_Mandate\\textbackslash{}\\_Face\\textbackslash{}\\_Mask] '5/11/20, 4/24/20, 5/8/20, 5/8/20, 5/11/20, 5/5/20'\n",
       "\\item[Weekly.unemployment.insurance.maximum.amount..dollars.] '275, 370, 240, 240, 451, 450'\n",
       "\\item[Population.density.per.square.miles] '93.24, 1.11, 62.91, 62.91, 56.67, 241.65'\n",
       "\\item[Population.2018] '4887871, 737438, 7171646, 7171646, 3013825, 39557045'\n",
       "\\item[Percent.living.under.the.federal.poverty.line..2018.] '16.8, 10.9, 14, 14, 17.2, 12.8'\n",
       "\\item[Percent.at.risk.for.serious.illness.due.to.COVID] '43.1, 32.8, 39.1, 39.1, 43.5, 33.3'\n",
       "\\item[All.cause.deaths.2018] '54352, 4453, 59282, 59282, 32336, 268818'\n",
       "\\item[Children.0.18] '0.24, 0.27, 0.24, 0.24, 0.25, 0.24'\n",
       "\\item[Adults.19.25] '0.09, 0.09, 0.09, 0.09, 0.09, 0.09'\n",
       "\\item[Adults.26.34] '0.12, 0.13, 0.12, 0.12, 0.12, 0.14'\n",
       "\\item[Adults.35.54] '0.25, 0.26, 0.24, 0.24, 0.25, 0.26'\n",
       "\\item[Adults.55.64] '0.14, 0.13, 0.12, 0.12, 0.13, 0.12'\n",
       "\\item[X65.] '0.17, 0.12, 0.18, 0.18, 0.17, 0.14'\n",
       "\\item[First\\textbackslash{}\\_Case\\textbackslash{}\\_Date] '3/13/20, 3/12/20, 1/26/20, 1/26/20, 3/11/20, 1/25/20'\n",
       "\\item[Days\\textbackslash{}\\_till\\textbackslash{}\\_mask\\textbackslash{}\\_was\\textbackslash{}\\_Mandated] '59, 43, 103, 103, 61, 101'\n",
       "\\item[days\\textbackslash{}\\_since\\textbackslash{}\\_reopen] '33, 27, 39, 39, 39, 50'\n",
       "\\item[days\\textbackslash{}\\_shelter\\textbackslash{}\\_inplace] '26, 27, 46, 46, 0, 106'\n",
       "\\end{description*}\n"
      ],
      "text/markdown": [
       "State\n",
       ":   'Alabama, Alaska, Arizona, arizona, Arkansas, California'Total.Cases\n",
       ":   '44909, 1138, 83376, 14713, 23814, 260155'Total.Death\n",
       ":   '1009, 16, 1538, 271, 287, 6331'Death_100k\n",
       ":   '20.6, 2.2, 25.2, 25.2, 9.5, 16'CasesInLast7Days\n",
       ":   '9804, 284, 28038, 28038, 4504, 53722'RatePer100000\n",
       ":   '918.8, 154.3, 1367.7, 1367.7, 790.2, 657.7'totalTestResults\n",
       ":   '449886, 122732, 604362, 604362, 338893, 4680138'State.of.emergency\n",
       ":   '3/13/20, 3/11/20, 3/11/20, 3/11/20, 3/11/20, 3/4/20'Stay.at.home..shelter.in.place\n",
       ":   '4/4/20, 3/28/20, 3/31/20, 3/31/20, 0, 3/19/20'End.relax.stay.at.home.shelter.in.place\n",
       ":   '4/30/20, 4/24/20, 5/16/20, 5/16/20, 0, 0'Closed.non.essential.businesses\n",
       ":   '3/28/20, 3/28/20, 3/30/20, 3/30/20, 0, 3/19/20'Began.to.reopen.businesses.statewide\n",
       ":   '4/30/20, 4/24/20, 5/8/20, 5/8/20, 5/4/20, 5/8/20'Mandate.face.mask.use.by.employees.in.public.facing.businesses\n",
       ":   '5/11/20, 4/24/20, 5/8/20, 5/8/20, 5/11/20, 5/5/20'Fixed_Mandate_Face_Mask\n",
       ":   '5/11/20, 4/24/20, 5/8/20, 5/8/20, 5/11/20, 5/5/20'Weekly.unemployment.insurance.maximum.amount..dollars.\n",
       ":   '275, 370, 240, 240, 451, 450'Population.density.per.square.miles\n",
       ":   '93.24, 1.11, 62.91, 62.91, 56.67, 241.65'Population.2018\n",
       ":   '4887871, 737438, 7171646, 7171646, 3013825, 39557045'Percent.living.under.the.federal.poverty.line..2018.\n",
       ":   '16.8, 10.9, 14, 14, 17.2, 12.8'Percent.at.risk.for.serious.illness.due.to.COVID\n",
       ":   '43.1, 32.8, 39.1, 39.1, 43.5, 33.3'All.cause.deaths.2018\n",
       ":   '54352, 4453, 59282, 59282, 32336, 268818'Children.0.18\n",
       ":   '0.24, 0.27, 0.24, 0.24, 0.25, 0.24'Adults.19.25\n",
       ":   '0.09, 0.09, 0.09, 0.09, 0.09, 0.09'Adults.26.34\n",
       ":   '0.12, 0.13, 0.12, 0.12, 0.12, 0.14'Adults.35.54\n",
       ":   '0.25, 0.26, 0.24, 0.24, 0.25, 0.26'Adults.55.64\n",
       ":   '0.14, 0.13, 0.12, 0.12, 0.13, 0.12'X65.\n",
       ":   '0.17, 0.12, 0.18, 0.18, 0.17, 0.14'First_Case_Date\n",
       ":   '3/13/20, 3/12/20, 1/26/20, 1/26/20, 3/11/20, 1/25/20'Days_till_mask_was_Mandated\n",
       ":   '59, 43, 103, 103, 61, 101'days_since_reopen\n",
       ":   '33, 27, 39, 39, 39, 50'days_shelter_inplace\n",
       ":   '26, 27, 46, 46, 0, 106'\n",
       "\n"
      ],
      "text/plain": [
       "                                                         State \n",
       "     \"Alabama, Alaska, Arizona, arizona, Arkansas, California\" \n",
       "                                                   Total.Cases \n",
       "                    \"44909, 1138, 83376, 14713, 23814, 260155\" \n",
       "                                                   Total.Death \n",
       "                              \"1009, 16, 1538, 271, 287, 6331\" \n",
       "                                                    Death_100k \n",
       "                              \"20.6, 2.2, 25.2, 25.2, 9.5, 16\" \n",
       "                                              CasesInLast7Days \n",
       "                        \"9804, 284, 28038, 28038, 4504, 53722\" \n",
       "                                                 RatePer100000 \n",
       "                  \"918.8, 154.3, 1367.7, 1367.7, 790.2, 657.7\" \n",
       "                                              totalTestResults \n",
       "             \"449886, 122732, 604362, 604362, 338893, 4680138\" \n",
       "                                            State.of.emergency \n",
       "         \"3/13/20, 3/11/20, 3/11/20, 3/11/20, 3/11/20, 3/4/20\" \n",
       "                                Stay.at.home..shelter.in.place \n",
       "               \"4/4/20, 3/28/20, 3/31/20, 3/31/20, 0, 3/19/20\" \n",
       "                       End.relax.stay.at.home.shelter.in.place \n",
       "                    \"4/30/20, 4/24/20, 5/16/20, 5/16/20, 0, 0\" \n",
       "                               Closed.non.essential.businesses \n",
       "              \"3/28/20, 3/28/20, 3/30/20, 3/30/20, 0, 3/19/20\" \n",
       "                          Began.to.reopen.businesses.statewide \n",
       "            \"4/30/20, 4/24/20, 5/8/20, 5/8/20, 5/4/20, 5/8/20\" \n",
       "Mandate.face.mask.use.by.employees.in.public.facing.businesses \n",
       "           \"5/11/20, 4/24/20, 5/8/20, 5/8/20, 5/11/20, 5/5/20\" \n",
       "                                       Fixed_Mandate_Face_Mask \n",
       "           \"5/11/20, 4/24/20, 5/8/20, 5/8/20, 5/11/20, 5/5/20\" \n",
       "        Weekly.unemployment.insurance.maximum.amount..dollars. \n",
       "                                \"275, 370, 240, 240, 451, 450\" \n",
       "                           Population.density.per.square.miles \n",
       "                    \"93.24, 1.11, 62.91, 62.91, 56.67, 241.65\" \n",
       "                                               Population.2018 \n",
       "        \"4887871, 737438, 7171646, 7171646, 3013825, 39557045\" \n",
       "          Percent.living.under.the.federal.poverty.line..2018. \n",
       "                              \"16.8, 10.9, 14, 14, 17.2, 12.8\" \n",
       "              Percent.at.risk.for.serious.illness.due.to.COVID \n",
       "                          \"43.1, 32.8, 39.1, 39.1, 43.5, 33.3\" \n",
       "                                         All.cause.deaths.2018 \n",
       "                    \"54352, 4453, 59282, 59282, 32336, 268818\" \n",
       "                                                 Children.0.18 \n",
       "                          \"0.24, 0.27, 0.24, 0.24, 0.25, 0.24\" \n",
       "                                                  Adults.19.25 \n",
       "                          \"0.09, 0.09, 0.09, 0.09, 0.09, 0.09\" \n",
       "                                                  Adults.26.34 \n",
       "                          \"0.12, 0.13, 0.12, 0.12, 0.12, 0.14\" \n",
       "                                                  Adults.35.54 \n",
       "                          \"0.25, 0.26, 0.24, 0.24, 0.25, 0.26\" \n",
       "                                                  Adults.55.64 \n",
       "                          \"0.14, 0.13, 0.12, 0.12, 0.13, 0.12\" \n",
       "                                                          X65. \n",
       "                          \"0.17, 0.12, 0.18, 0.18, 0.17, 0.14\" \n",
       "                                               First_Case_Date \n",
       "        \"3/13/20, 3/12/20, 1/26/20, 1/26/20, 3/11/20, 1/25/20\" \n",
       "                                   Days_till_mask_was_Mandated \n",
       "                                   \"59, 43, 103, 103, 61, 101\" \n",
       "                                             days_since_reopen \n",
       "                                      \"33, 27, 39, 39, 39, 50\" \n",
       "                                          days_shelter_inplace \n",
       "                                      \"26, 27, 46, 46, 0, 106\" "
      ]
     },
     "metadata": {},
     "output_type": "display_data"
    }
   ],
   "source": [
    "dataSet = read.csv(\"covid-19_dataset.csv\")\n",
    "ds <- dataSet\n",
    "#str(ds)\n",
    "df <- data.frame(variable=names(ds), \n",
    "            type=sapply(ds, typeof),\n",
    "            firstValues= sapply(ds, function(x) paste0(head(x),  collapse = \", \")))\n",
    "sapply(ds, function(x) paste0(head(x),  collapse = \", \"))"
   ]
  },
  {
   "cell_type": "markdown",
   "metadata": {},
   "source": [
    "There are 30 variables and 52 observations. As seen in the dataset, all `date` variables are treated as character. Therefore, we will have to convert them into a date field so we can subtract them etc. Also, there are two rows with data for state \"Arizona\". Upon assessment the data for row #4 looks incorrect, so we decided to remove that row from the dataset."
   ]
  },
  {
   "cell_type": "code",
   "execution_count": 4,
   "metadata": {},
   "outputs": [],
   "source": [
    "ds <- ds[-c(4),]"
   ]
  },
  {
   "cell_type": "markdown",
   "metadata": {},
   "source": [
    "We have added couple of new variables to our dataset, `Fixed_Mandate_Face_Mask` and `First_Case_Date`. In order for us to answer the question:\n",
    "\n",
    "`\"Does wearing a mask help prevent the spread of COVID-19?\"`\n",
    "\n",
    "let's examine the two new variables introduced. \n",
    "\n",
    "  - `Fixed_Mandate_Face_Mask` provides a date when wearing face mask was mandated by a state\n",
    "  - `First_Case_Date` provides COVID-19 first case date in a state\n",
    "\n",
    "Computing `Fixed_Mandate_Face_Mask` - `First_Case_Date` gives us number of days since the first case identified and until face mask was mandated by a state.\n",
    "\n",
    "We know that the policies and state characteristics related variables' data was compiled as of 07/02/2020 and Covid-19 related variables' data was compiled as of 07/06/2020. We have assumed that for any `Fixed_Mandate_Face_Mask` date with a value 0, that the mandate was implemented as of 07/07/2020 i.e., a day after the last data update to the current dataset"
   ]
  },
  {
   "cell_type": "code",
   "execution_count": 18,
   "metadata": {},
   "outputs": [
    {
     "data": {
      "text/html": [],
      "text/latex": [],
      "text/markdown": [],
      "text/plain": [
       "integer(0)"
      ]
     },
     "metadata": {},
     "output_type": "display_data"
    },
    {
     "data": {
      "text/plain": [
       "   Min. 1st Qu.  Median    Mean 3rd Qu.    Max. \n",
       "  26.00   48.00   60.50   74.42  103.00  153.00 "
      ]
     },
     "metadata": {},
     "output_type": "display_data"
    }
   ],
   "source": [
    "maskStart <- as.Date(ds$Fixed_Mandate_Face_Mask, format=\"%m/%d/%y\")\n",
    "firstCase <- as.Date(ds$First_Case_Date, format=\"%m/%d/%y\")\n",
    "# the load of date data with 0 gets loaded as NA; find all NA - there are 10 such values\n",
    "ndx <- which(is.na(maskStart))\n",
    "ndx\n",
    "# set all of them to 07/07/20 date\n",
    "maskStart[ndx] <- as.Date(\"07/07/20\", format=\"%m/%d/%y\")\n",
    "mm <- as.data.frame(maskStart-firstCase)\n",
    "mm <- mm$`maskStart - firstCase`\n",
    "mm <- strtoi(mm)\n",
    "# days until mask was mandated\n",
    "summary(mm)"
   ]
  },
  {
   "cell_type": "markdown",
   "metadata": {},
   "source": [
    "We are also interested in the variable, `Total.Cases`, which signifies total cases of COVID-19 in a state.\n",
    "\n",
    "## Operationalization"
   ]
  },
  {
   "cell_type": "code",
   "execution_count": 19,
   "metadata": {},
   "outputs": [
    {
     "data": {
      "text/plain": [
       "   Min. 1st Qu.  Median    Mean 3rd Qu.    Max. \n",
       "    939   11882   31305   55332   67052  398828 "
      ]
     },
     "metadata": {},
     "output_type": "display_data"
    },
    {
     "data": {
      "text/plain": [
       "     Min.   1st Qu.    Median      Mean   3rd Qu.      Max. \n",
       "   0.9117  172.1914  347.3152  441.6678  618.6796 1827.0541 "
      ]
     },
     "metadata": {},
     "output_type": "display_data"
    },
    {
     "data": {
      "image/png": "[encoded data removed]",
      "text/plain": [
       "Plot with title “Total Cases Vs Days Until Mask Mandated”"
      ]
     },
     "metadata": {
      "image/png": {
       "height": 420,
       "width": 420
      },
      "text/plain": {
       "height": 420,
       "width": 420
      }
     },
     "output_type": "display_data"
    },
    {
     "data": {
      "image/png": "[encoded data removed]",
      "text/plain": [
       "Plot with title “log(Normalized Total Cases) Vs Days Until Mask Mandated”"
      ]
     },
     "metadata": {
      "image/png": {
       "height": 420,
       "width": 420
      },
      "text/plain": {
       "height": 420,
       "width": 420
      }
     },
     "output_type": "display_data"
    }
   ],
   "source": [
    "# total cases\n",
    "tc <- ds$Total.Cases\n",
    "title <- \"Total Cases Vs Days Until Mask Mandated\"\n",
    "xtitle <- \"Total Cases\"\n",
    "ytitle <- \"Days Until Mask Mandated\"\n",
    "summary(tc)\n",
    "plot(tc, mm, main=title, xlab=xtitle, ylab=ytitle)\n",
    "\n",
    "# total cases density\n",
    "tcd <- tc/ds$Population.density.per.square.miles\n",
    "title <- \"log(Normalized Total Cases) Vs Days Until Mask Mandated\"\n",
    "xtitle <- \"log(Normalized Total Cases)\"\n",
    "ytitle <- \"Days Until Mask Mandated\"\n",
    "summary(tcd)\n",
    "plot(log(tc), mm, main=title, xlab=xtitle, ylab=ytitle)"
   ]
  },
  {
   "cell_type": "markdown",
   "metadata": {},
   "source": [
    "## Basic Model\n",
    "\n",
    "Following Basic M0del is considered to answer the research question: \n",
    "\n",
    "$log(Normalized Total Cases) = \\beta_0 + \\beta_1 . DaysUntilMaskMandated u$"
   ]
  },
  {
   "cell_type": "code",
   "execution_count": 20,
   "metadata": {},
   "outputs": [
    {
     "ename": "ERROR",
     "evalue": "Error in as.ggplot(~plot(model, which = 1)): could not find function \"as.ggplot\"\n",
     "output_type": "error",
     "traceback": [
      "Error in as.ggplot(~plot(model, which = 1)): could not find function \"as.ggplot\"\nTraceback:\n"
     ]
    }
   ],
   "source": [
    "#model original\n",
    "model <- lm(log(tcd) ~ mm)\n",
    "\n",
    "plot1 <- as.ggplot(~plot(model, which = 1))\n",
    "plot2 <- as.ggplot(~plot(model, which = 2))\n",
    "plot3 <- as.ggplot(~plot(model, which = 3))\n",
    "plot4 <- as.ggplot(~plot(model, which = 5))\n",
    "\n",
    "grid.arrange(plot1, plot2, layout_matrix = rbind(c(1,1,2,2),c(1,1,2,2)))\n",
    "grid.arrange(plot3, plot4, layout_matrix = rbind(c(1,1,2,2),c(1,1,2,2)))\n",
    "\n",
    "hist(model$residuals)"
   ]
  },
  {
   "cell_type": "code",
   "execution_count": 21,
   "metadata": {},
   "outputs": [
    {
     "data": {
      "text/plain": [
       "\n",
       "t test of coefficients:\n",
       "\n",
       "             Estimate Std. Error t value  Pr(>|t|)    \n",
       "(Intercept) 4.4793112  0.5772427  7.7598 3.918e-10 ***\n",
       "mm          0.0145259  0.0057751  2.5153   0.01515 *  \n",
       "---\n",
       "Signif. codes:  0 ‘***’ 0.001 ‘**’ 0.01 ‘*’ 0.05 ‘.’ 0.1 ‘ ’ 1\n"
      ]
     },
     "metadata": {},
     "output_type": "display_data"
    },
    {
     "name": "stdout",
     "output_type": "stream",
     "text": [
      "\n",
      "=================================================\n",
      "                         Dependent variable:     \n",
      "                    -----------------------------\n",
      "                              log(tcd)           \n",
      "-------------------------------------------------\n",
      "mm                              0.015            \n",
      "                                                 \n",
      "                                                 \n",
      "Constant                      4.479***           \n",
      "                              p = 0.000          \n",
      "                                                 \n",
      "-------------------------------------------------\n",
      "Observations                     52              \n",
      "R2                              0.111            \n",
      "Adjusted R2                     0.093            \n",
      "Residual Std. Error        1.322 (df = 50)       \n",
      "=================================================\n",
      "Note:               *p<0.05; **p<0.01; ***p<0.001\n"
     ]
    }
   ],
   "source": [
    "# run the coeftest\n",
    "coeftest(model, vcov = vcovHC)\n",
    "# get the Heteroskedastic Consistent variance-covariance vector\n",
    "se_model <- sqrt(diag(vcovHC(model))) \n",
    "# stargazer output\n",
    "stargazer(model, type = \"text\", omit.stat = \"f\",\n",
    "          se = se_model, #Using the robust standard error\n",
    "          report=('vc*p'),\n",
    "          star.cutoffs = c(0.05, 0.01, 0.001))"
   ]
  },
  {
   "cell_type": "markdown",
   "metadata": {},
   "source": [
    "## Model Assessment\n",
    "\n",
    "`TBD`\n",
    "\n",
    "## Model Improvement#1\n",
    "\n",
    "Looking at the rest of the attributes, let's build upon the basic model and consider the impact of the following on the total test cases density:\n",
    "\n",
    "- essential businesses closing and reopening \n",
    "- the days when shelter in place was active\n",
    "\n",
    "### Operationalization\n",
    "\n",
    "To extract this info we will have to look at the following pairs of attributes:\n",
    "\n",
    "- Dates when `Closed.non.essential.businesses` and `Began.to.reopen.businesses.statewide`\n",
    "- Dates when `Stay.at.home..shelter.in.place` and `End.relax.stay.at.home.shelter.in.place`"
   ]
  },
  {
   "cell_type": "code",
   "execution_count": 22,
   "metadata": {},
   "outputs": [
    {
     "data": {
      "text/html": [
       "43"
      ],
      "text/latex": [
       "43"
      ],
      "text/markdown": [
       "43"
      ],
      "text/plain": [
       "[1] 43"
      ]
     },
     "metadata": {},
     "output_type": "display_data"
    },
    {
     "data": {
      "text/html": [
       "'South Dakota'"
      ],
      "text/latex": [
       "'South Dakota'"
      ],
      "text/markdown": [
       "'South Dakota'"
      ],
      "text/plain": [
       "[1] \"South Dakota\""
      ]
     },
     "metadata": {},
     "output_type": "display_data"
    },
    {
     "data": {
      "text/html": [
       "'0'"
      ],
      "text/latex": [
       "'0'"
      ],
      "text/markdown": [
       "'0'"
      ],
      "text/plain": [
       "[1] \"0\""
      ]
     },
     "metadata": {},
     "output_type": "display_data"
    },
    {
     "data": {
      "text/html": [
       "'0'"
      ],
      "text/latex": [
       "'0'"
      ],
      "text/markdown": [
       "'0'"
      ],
      "text/plain": [
       "[1] \"0\""
      ]
     },
     "metadata": {},
     "output_type": "display_data"
    }
   ],
   "source": [
    "# get the reopen and close dates\n",
    "reopen <- ds$Began.to.reopen.businesses.statewide\n",
    "close <- ds$Closed.non.essential.businesses\n",
    "# find the dates that have both dates = 0\n",
    "# Knowing very clearly we did not see any dates that have same date for both variables\n",
    "ndx1 <- which(reopen == close)\n",
    "# let's see how many dates have both dates = 0\n",
    "ndx1\n",
    "ds$State[ndx1]\n",
    "reopen[ndx1]\n",
    "close[ndx1]"
   ]
  },
  {
   "cell_type": "markdown",
   "metadata": {},
   "source": [
    "There is only one row at index 42 (for state South Dakota) that has a zero date in both the `Closed.non.essential.businesses` and `Began.to.reopen.businesses.statewide` variables. It implies that this state did not close non essential business and therefore, it did not had to reopen business.\n",
    "\n",
    "Performing a date difference in R with incorrect date will result in a NA value. Let's preserve this index to fix it back to zero later."
   ]
  },
  {
   "cell_type": "code",
   "execution_count": 23,
   "metadata": {},
   "outputs": [
    {
     "data": {
      "text/html": [
       "<style>\n",
       ".list-inline {list-style: none; margin:0; padding: 0}\n",
       ".list-inline>li {display: inline-block}\n",
       ".list-inline>li:not(:last-child)::after {content: \"\\00b7\"; padding: 0 .5ex}\n",
       "</style>\n",
       "<ol class=list-inline><li>'Arkansas'</li><li>'Florida'</li><li>'Georgia'</li><li>'Missouri'</li><li>'Nebraska'</li><li>'North Dakota'</li><li>'Oregon'</li><li>'South Dakota'</li><li>'Utah'</li><li>'Virginia'</li><li>'Wyoming'</li></ol>\n"
      ],
      "text/latex": [
       "\\begin{enumerate*}\n",
       "\\item 'Arkansas'\n",
       "\\item 'Florida'\n",
       "\\item 'Georgia'\n",
       "\\item 'Missouri'\n",
       "\\item 'Nebraska'\n",
       "\\item 'North Dakota'\n",
       "\\item 'Oregon'\n",
       "\\item 'South Dakota'\n",
       "\\item 'Utah'\n",
       "\\item 'Virginia'\n",
       "\\item 'Wyoming'\n",
       "\\end{enumerate*}\n"
      ],
      "text/markdown": [
       "1. 'Arkansas'\n",
       "2. 'Florida'\n",
       "3. 'Georgia'\n",
       "4. 'Missouri'\n",
       "5. 'Nebraska'\n",
       "6. 'North Dakota'\n",
       "7. 'Oregon'\n",
       "8. 'South Dakota'\n",
       "9. 'Utah'\n",
       "10. 'Virginia'\n",
       "11. 'Wyoming'\n",
       "\n",
       "\n"
      ],
      "text/plain": [
       " [1] \"Arkansas\"     \"Florida\"      \"Georgia\"      \"Missouri\"     \"Nebraska\"    \n",
       " [6] \"North Dakota\" \"Oregon\"       \"South Dakota\" \"Utah\"         \"Virginia\"    \n",
       "[11] \"Wyoming\"     "
      ]
     },
     "metadata": {},
     "output_type": "display_data"
    },
    {
     "data": {
      "text/html": [
       "<style>\n",
       ".list-inline {list-style: none; margin:0; padding: 0}\n",
       ".list-inline>li {display: inline-block}\n",
       ".list-inline>li:not(:last-child)::after {content: \"\\00b7\"; padding: 0 .5ex}\n",
       "</style>\n",
       "<ol class=list-inline><li>'0'</li><li>'0'</li><li>'0'</li><li>'0'</li><li>'0'</li><li>'0'</li><li>'0'</li><li>'0'</li><li>'0'</li><li>'0'</li><li>'0'</li></ol>\n"
      ],
      "text/latex": [
       "\\begin{enumerate*}\n",
       "\\item '0'\n",
       "\\item '0'\n",
       "\\item '0'\n",
       "\\item '0'\n",
       "\\item '0'\n",
       "\\item '0'\n",
       "\\item '0'\n",
       "\\item '0'\n",
       "\\item '0'\n",
       "\\item '0'\n",
       "\\item '0'\n",
       "\\end{enumerate*}\n"
      ],
      "text/markdown": [
       "1. '0'\n",
       "2. '0'\n",
       "3. '0'\n",
       "4. '0'\n",
       "5. '0'\n",
       "6. '0'\n",
       "7. '0'\n",
       "8. '0'\n",
       "9. '0'\n",
       "10. '0'\n",
       "11. '0'\n",
       "\n",
       "\n"
      ],
      "text/plain": [
       " [1] \"0\" \"0\" \"0\" \"0\" \"0\" \"0\" \"0\" \"0\" \"0\" \"0\" \"0\""
      ]
     },
     "metadata": {},
     "output_type": "display_data"
    },
    {
     "data": {
      "text/html": [
       "<style>\n",
       ".list-inline {list-style: none; margin:0; padding: 0}\n",
       ".list-inline>li {display: inline-block}\n",
       ".list-inline>li:not(:last-child)::after {content: \"\\00b7\"; padding: 0 .5ex}\n",
       "</style>\n",
       "<ol class=list-inline><li>'5/4/20'</li><li>'5/18/20'</li><li>'5/1/20'</li><li>'5/4/20'</li><li>'5/18/20'</li><li>'5/1/20'</li><li>'5/15/20'</li><li>'0'</li><li>'5/1/20'</li><li>'5/29/20'</li><li>'5/1/20'</li></ol>\n"
      ],
      "text/latex": [
       "\\begin{enumerate*}\n",
       "\\item '5/4/20'\n",
       "\\item '5/18/20'\n",
       "\\item '5/1/20'\n",
       "\\item '5/4/20'\n",
       "\\item '5/18/20'\n",
       "\\item '5/1/20'\n",
       "\\item '5/15/20'\n",
       "\\item '0'\n",
       "\\item '5/1/20'\n",
       "\\item '5/29/20'\n",
       "\\item '5/1/20'\n",
       "\\end{enumerate*}\n"
      ],
      "text/markdown": [
       "1. '5/4/20'\n",
       "2. '5/18/20'\n",
       "3. '5/1/20'\n",
       "4. '5/4/20'\n",
       "5. '5/18/20'\n",
       "6. '5/1/20'\n",
       "7. '5/15/20'\n",
       "8. '0'\n",
       "9. '5/1/20'\n",
       "10. '5/29/20'\n",
       "11. '5/1/20'\n",
       "\n",
       "\n"
      ],
      "text/plain": [
       " [1] \"5/4/20\"  \"5/18/20\" \"5/1/20\"  \"5/4/20\"  \"5/18/20\" \"5/1/20\"  \"5/15/20\"\n",
       " [8] \"0\"       \"5/1/20\"  \"5/29/20\" \"5/1/20\" "
      ]
     },
     "metadata": {},
     "output_type": "display_data"
    },
    {
     "data": {
      "text/html": [
       "<span style=white-space:pre-wrap>'Total number of states with 0 dates:  11'</span>"
      ],
      "text/latex": [
       "'Total number of states with 0 dates:  11'"
      ],
      "text/markdown": [
       "<span style=white-space:pre-wrap>'Total number of states with 0 dates:  11'</span>"
      ],
      "text/plain": [
       "[1] \"Total number of states with 0 dates:  11\""
      ]
     },
     "metadata": {},
     "output_type": "display_data"
    },
    {
     "data": {
      "text/html": [
       "<style>\n",
       ".list-inline {list-style: none; margin:0; padding: 0}\n",
       ".list-inline>li {display: inline-block}\n",
       ".list-inline>li:not(:last-child)::after {content: \"\\00b7\"; padding: 0 .5ex}\n",
       "</style>\n",
       "<ol class=list-inline><li>5</li><li>11</li><li>12</li><li>27</li><li>29</li><li>36</li><li>39</li><li>43</li><li>46</li><li>48</li><li>52</li></ol>\n"
      ],
      "text/latex": [
       "\\begin{enumerate*}\n",
       "\\item 5\n",
       "\\item 11\n",
       "\\item 12\n",
       "\\item 27\n",
       "\\item 29\n",
       "\\item 36\n",
       "\\item 39\n",
       "\\item 43\n",
       "\\item 46\n",
       "\\item 48\n",
       "\\item 52\n",
       "\\end{enumerate*}\n"
      ],
      "text/markdown": [
       "1. 5\n",
       "2. 11\n",
       "3. 12\n",
       "4. 27\n",
       "5. 29\n",
       "6. 36\n",
       "7. 39\n",
       "8. 43\n",
       "9. 46\n",
       "10. 48\n",
       "11. 52\n",
       "\n",
       "\n"
      ],
      "text/plain": [
       " [1]  5 11 12 27 29 36 39 43 46 48 52"
      ]
     },
     "metadata": {},
     "output_type": "display_data"
    }
   ],
   "source": [
    "closeZero <- ds[ds$Closed.non.essential.businesses == 0,]\n",
    "closeZero$State\n",
    "closeZero$Closed.non.essential.businesses\n",
    "closeZero$Began.to.reopen.businesses.statewide\n",
    "paste(\"Total number of states with 0 dates: \", length(closeZero$State))\n",
    "which(ds$Closed.non.essential.businesses == 0)"
   ]
  },
  {
   "cell_type": "markdown",
   "metadata": {},
   "source": [
    "We have already examined the situation with South Dakota above. However, there are 10 addiional states who have bad data. These states have no `Closed.non.essential.businesses` date. However, they have a valid `Began.to.reopen.businesses.statewide`. For these states, we will consider using a mode of the number of days"
   ]
  },
  {
   "cell_type": "code",
   "execution_count": 24,
   "metadata": {},
   "outputs": [
    {
     "name": "stdout",
     "output_type": "stream",
     "text": [
      "[1] \"Indices of this error: \"\n"
     ]
    },
    {
     "data": {
      "text/html": [
       "<style>\n",
       ".list-inline {list-style: none; margin:0; padding: 0}\n",
       ".list-inline>li {display: inline-block}\n",
       ".list-inline>li:not(:last-child)::after {content: \"\\00b7\"; padding: 0 .5ex}\n",
       "</style>\n",
       "<ol class=list-inline><li>'5'</li><li>'11'</li><li>'12'</li><li>'27'</li><li>'29'</li><li>'36'</li><li>'39'</li><li>'43'</li><li>'46'</li><li>'48'</li><li>'52'</li></ol>\n"
      ],
      "text/latex": [
       "\\begin{enumerate*}\n",
       "\\item '5'\n",
       "\\item '11'\n",
       "\\item '12'\n",
       "\\item '27'\n",
       "\\item '29'\n",
       "\\item '36'\n",
       "\\item '39'\n",
       "\\item '43'\n",
       "\\item '46'\n",
       "\\item '48'\n",
       "\\item '52'\n",
       "\\end{enumerate*}\n"
      ],
      "text/markdown": [
       "1. '5'\n",
       "2. '11'\n",
       "3. '12'\n",
       "4. '27'\n",
       "5. '29'\n",
       "6. '36'\n",
       "7. '39'\n",
       "8. '43'\n",
       "9. '46'\n",
       "10. '48'\n",
       "11. '52'\n",
       "\n",
       "\n"
      ],
      "text/plain": [
       " [1] \"5\"  \"11\" \"12\" \"27\" \"29\" \"36\" \"39\" \"43\" \"46\" \"48\" \"52\""
      ]
     },
     "metadata": {},
     "output_type": "display_data"
    }
   ],
   "source": [
    "# convert string into a date format for reopen date\n",
    "finish <- as.Date(reopen, format=\"%m/%d/%y\")\n",
    "# as well when busineeses were closed\n",
    "start <- as.Date(close, format=\"%m/%d/%y\")\n",
    "# get a date diff to get number of days\n",
    "drs <- as.data.frame(finish-start)\n",
    "ind1 <- which(is.na(drs))\n",
    "print(\"Indices of this error: \")\n",
    "paste(ind1)"
   ]
  },
  {
   "cell_type": "markdown",
   "metadata": {},
   "source": [
    "It is confirmed that the date difference for the bad data resulted in NA values. "
   ]
  },
  {
   "cell_type": "code",
   "execution_count": 25,
   "metadata": {},
   "outputs": [
    {
     "data": {
      "text/html": [
       "<span style=white-space:pre-wrap>'Mode of # of days since reopen for states with valid data:  39'</span>"
      ],
      "text/latex": [
       "'Mode of \\# of days since reopen for states with valid data:  39'"
      ],
      "text/markdown": [
       "<span style=white-space:pre-wrap>'Mode of # of days since reopen for states with valid data:  39'</span>"
      ],
      "text/plain": [
       "[1] \"Mode of # of days since reopen for states with valid data:  39\""
      ]
     },
     "metadata": {},
     "output_type": "display_data"
    }
   ],
   "source": [
    "# function that returns mode given a vector input\n",
    "getmode <- function(v) {\n",
    "   uniqv <- unique(v)\n",
    "   uniqv[which.max(tabulate(match(v, uniqv)))]\n",
    "}\n",
    "\n",
    "drs_noNA <- drs[!is.na(drs)]\n",
    "drs_noNA = str_remove_all(drs_noNA, \"[days ]\")\n",
    "drs_noNA = strtoi(drs_noNA)\n",
    "drsMode <- getmode(drs_noNA)\n",
    "drs <- drs$`finish - start`\n",
    "drs[is.na(drs)] <- drsMode\n",
    "\n",
    "drs[ndx1] = 0\n",
    "paste(\"Mode of # of days since reopen for states with valid data: \", getmode(drs_noNA))"
   ]
  },
  {
   "cell_type": "markdown",
   "metadata": {},
   "source": [
    "\n",
    "We used 39 as a replacement for all 10 states which had bad data.\n",
    "\n",
    "Let's look at second set of dates: `Stay.at.home..shelter.in.place` and `End.relax.stay.at.home.shelter.in.place`"
   ]
  },
  {
   "cell_type": "code",
   "execution_count": 26,
   "metadata": {},
   "outputs": [
    {
     "data": {
      "text/html": [
       "<style>\n",
       ".list-inline {list-style: none; margin:0; padding: 0}\n",
       ".list-inline>li {display: inline-block}\n",
       ".list-inline>li:not(:last-child)::after {content: \"\\00b7\"; padding: 0 .5ex}\n",
       "</style>\n",
       "<ol class=list-inline><li>'Arkansas'</li><li>'Connecticut'</li><li>'Iowa'</li><li>'Kentucky'</li><li>'Nebraska'</li><li>'New Jersey'</li><li>'North Dakota'</li><li>'Oklahoma'</li><li>'South Dakota'</li><li>'Texas'</li><li>'Utah'</li><li>'Wyoming'</li></ol>\n"
      ],
      "text/latex": [
       "\\begin{enumerate*}\n",
       "\\item 'Arkansas'\n",
       "\\item 'Connecticut'\n",
       "\\item 'Iowa'\n",
       "\\item 'Kentucky'\n",
       "\\item 'Nebraska'\n",
       "\\item 'New Jersey'\n",
       "\\item 'North Dakota'\n",
       "\\item 'Oklahoma'\n",
       "\\item 'South Dakota'\n",
       "\\item 'Texas'\n",
       "\\item 'Utah'\n",
       "\\item 'Wyoming'\n",
       "\\end{enumerate*}\n"
      ],
      "text/markdown": [
       "1. 'Arkansas'\n",
       "2. 'Connecticut'\n",
       "3. 'Iowa'\n",
       "4. 'Kentucky'\n",
       "5. 'Nebraska'\n",
       "6. 'New Jersey'\n",
       "7. 'North Dakota'\n",
       "8. 'Oklahoma'\n",
       "9. 'South Dakota'\n",
       "10. 'Texas'\n",
       "11. 'Utah'\n",
       "12. 'Wyoming'\n",
       "\n",
       "\n"
      ],
      "text/plain": [
       " [1] \"Arkansas\"     \"Connecticut\"  \"Iowa\"         \"Kentucky\"     \"Nebraska\"    \n",
       " [6] \"New Jersey\"   \"North Dakota\" \"Oklahoma\"     \"South Dakota\" \"Texas\"       \n",
       "[11] \"Utah\"         \"Wyoming\"     "
      ]
     },
     "metadata": {},
     "output_type": "display_data"
    },
    {
     "data": {
      "text/html": [
       "<style>\n",
       ".list-inline {list-style: none; margin:0; padding: 0}\n",
       ".list-inline>li {display: inline-block}\n",
       ".list-inline>li:not(:last-child)::after {content: \"\\00b7\"; padding: 0 .5ex}\n",
       "</style>\n",
       "<ol class=list-inline><li>'0'</li><li>'0'</li><li>'0'</li><li>'0'</li><li>'0'</li><li>'0'</li><li>'0'</li><li>'0'</li><li>'0'</li><li>'0'</li><li>'0'</li><li>'0'</li></ol>\n"
      ],
      "text/latex": [
       "\\begin{enumerate*}\n",
       "\\item '0'\n",
       "\\item '0'\n",
       "\\item '0'\n",
       "\\item '0'\n",
       "\\item '0'\n",
       "\\item '0'\n",
       "\\item '0'\n",
       "\\item '0'\n",
       "\\item '0'\n",
       "\\item '0'\n",
       "\\item '0'\n",
       "\\item '0'\n",
       "\\end{enumerate*}\n"
      ],
      "text/markdown": [
       "1. '0'\n",
       "2. '0'\n",
       "3. '0'\n",
       "4. '0'\n",
       "5. '0'\n",
       "6. '0'\n",
       "7. '0'\n",
       "8. '0'\n",
       "9. '0'\n",
       "10. '0'\n",
       "11. '0'\n",
       "12. '0'\n",
       "\n",
       "\n"
      ],
      "text/plain": [
       " [1] \"0\" \"0\" \"0\" \"0\" \"0\" \"0\" \"0\" \"0\" \"0\" \"0\" \"0\" \"0\""
      ]
     },
     "metadata": {},
     "output_type": "display_data"
    },
    {
     "data": {
      "text/html": [
       "<style>\n",
       ".list-inline {list-style: none; margin:0; padding: 0}\n",
       ".list-inline>li {display: inline-block}\n",
       ".list-inline>li:not(:last-child)::after {content: \"\\00b7\"; padding: 0 .5ex}\n",
       "</style>\n",
       "<ol class=list-inline><li>'0'</li><li>'0'</li><li>'0'</li><li>'0'</li><li>'0'</li><li>'0'</li><li>'0'</li><li>'0'</li><li>'0'</li><li>'0'</li><li>'0'</li><li>'0'</li></ol>\n"
      ],
      "text/latex": [
       "\\begin{enumerate*}\n",
       "\\item '0'\n",
       "\\item '0'\n",
       "\\item '0'\n",
       "\\item '0'\n",
       "\\item '0'\n",
       "\\item '0'\n",
       "\\item '0'\n",
       "\\item '0'\n",
       "\\item '0'\n",
       "\\item '0'\n",
       "\\item '0'\n",
       "\\item '0'\n",
       "\\end{enumerate*}\n"
      ],
      "text/markdown": [
       "1. '0'\n",
       "2. '0'\n",
       "3. '0'\n",
       "4. '0'\n",
       "5. '0'\n",
       "6. '0'\n",
       "7. '0'\n",
       "8. '0'\n",
       "9. '0'\n",
       "10. '0'\n",
       "11. '0'\n",
       "12. '0'\n",
       "\n",
       "\n"
      ],
      "text/plain": [
       " [1] \"0\" \"0\" \"0\" \"0\" \"0\" \"0\" \"0\" \"0\" \"0\" \"0\" \"0\" \"0\""
      ]
     },
     "metadata": {},
     "output_type": "display_data"
    },
    {
     "data": {
      "text/html": [
       "<span style=white-space:pre-wrap>'Number of states that did not had shelter in place:  12'</span>"
      ],
      "text/latex": [
       "'Number of states that did not had shelter in place:  12'"
      ],
      "text/markdown": [
       "<span style=white-space:pre-wrap>'Number of states that did not had shelter in place:  12'</span>"
      ],
      "text/plain": [
       "[1] \"Number of states that did not had shelter in place:  12\""
      ]
     },
     "metadata": {},
     "output_type": "display_data"
    }
   ],
   "source": [
    "shelterEnd <- ds$End.relax.stay.at.home.shelter.in.place\n",
    "shelterStart <- ds$Stay.at.home..shelter.in.place\n",
    "ndx2 <- which(shelterEnd == shelterStart)\n",
    "ds$State[ndx2]\n",
    "ds$End.relax.stay.at.home.shelter.in.place[ndx2]\n",
    "ds$Stay.at.home..shelter.in.place[ndx2]\n",
    "paste(\"Number of states that did not had shelter in place: \", length(ndx2))"
   ]
  },
  {
   "cell_type": "markdown",
   "metadata": {},
   "source": [
    "This initial assessment shows that above listed 12 states did not implement Shelter in Place therefore, they did not also relax that government mandate. We will ensure that we will appropriately replace data with 0s for these 12 states."
   ]
  },
  {
   "cell_type": "code",
   "execution_count": 27,
   "metadata": {},
   "outputs": [
    {
     "name": "stdout",
     "output_type": "stream",
     "text": [
      "States that did not end SIP:  California Hawaii New Mexico New York \n",
      "Shelter start date:  3/19/20 3/25/20 3/24/20 3/22/20 \n",
      "Shelter end date:  0 0 0 0 \n",
      "Indices of these state in dataset:  6 13 33 34 \n"
     ]
    }
   ],
   "source": [
    "finishS <- as.Date(shelterEnd, format=\"%m/%d/%y\")\n",
    "startS <- as.Date(shelterStart, format=\"%m/%d/%y\")\n",
    "dsp <- as.data.frame(finishS - startS)\n",
    "dsp <- dsp$`finishS - startS`\n",
    "# fix the 12 states with 0 days for the shelter in place\n",
    "dsp[ndx2] = 0\n",
    "\n",
    "t1 <- shelterEnd[which(is.na(dsp))]\n",
    "t2 <- shelterStart[which(is.na(dsp))]\n",
    "t3 <- ds$State[which(is.na(dsp))]\n",
    "\n",
    "cat(\"States that did not end SIP: \", t3, \"\\n\")\n",
    "cat(\"Shelter start date: \", t2, \"\\n\")\n",
    "cat(\"Shelter end date: \", t1, \"\\n\")\n",
    "cat(\"Indices of these state in dataset: \", which(is.na(dsp)), \"\\n\")"
   ]
  },
  {
   "cell_type": "markdown",
   "metadata": {},
   "source": [
    "These 4 states did not end Shelter in Place order. `07/06/20` is the last day when the Covid-19 data was pulled. We go with the assumption that Shelter in Place in these 4 states ended on `07/07/20`"
   ]
  },
  {
   "cell_type": "code",
   "execution_count": 28,
   "metadata": {},
   "outputs": [
    {
     "data": {
      "text/html": [
       "<style>\n",
       ".list-inline {list-style: none; margin:0; padding: 0}\n",
       ".list-inline>li {display: inline-block}\n",
       ".list-inline>li:not(:last-child)::after {content: \"\\00b7\"; padding: 0 .5ex}\n",
       "</style>\n",
       "<ol class=list-inline><li><span style=white-space:pre-wrap>'Are there any NAs?:  0'</span></li><li><span style=white-space:pre-wrap>'Are there any NAs?:  0'</span></li><li><span style=white-space:pre-wrap>'Are there any NAs?:  0'</span></li><li><span style=white-space:pre-wrap>'Are there any NAs?:  0'</span></li><li><span style=white-space:pre-wrap>'Are there any NAs?:  0'</span></li></ol>\n"
      ],
      "text/latex": [
       "\\begin{enumerate*}\n",
       "\\item 'Are there any NAs?:  0'\n",
       "\\item 'Are there any NAs?:  0'\n",
       "\\item 'Are there any NAs?:  0'\n",
       "\\item 'Are there any NAs?:  0'\n",
       "\\item 'Are there any NAs?:  0'\n",
       "\\end{enumerate*}\n"
      ],
      "text/markdown": [
       "1. <span style=white-space:pre-wrap>'Are there any NAs?:  0'</span>\n",
       "2. <span style=white-space:pre-wrap>'Are there any NAs?:  0'</span>\n",
       "3. <span style=white-space:pre-wrap>'Are there any NAs?:  0'</span>\n",
       "4. <span style=white-space:pre-wrap>'Are there any NAs?:  0'</span>\n",
       "5. <span style=white-space:pre-wrap>'Are there any NAs?:  0'</span>\n",
       "\n",
       "\n"
      ],
      "text/plain": [
       "[1] \"Are there any NAs?:  0\" \"Are there any NAs?:  0\" \"Are there any NAs?:  0\"\n",
       "[4] \"Are there any NAs?:  0\" \"Are there any NAs?:  0\""
      ]
     },
     "metadata": {},
     "output_type": "display_data"
    },
    {
     "data": {
      "text/html": [
       "'Number of days since Shelter in Place lifted'"
      ],
      "text/latex": [
       "'Number of days since Shelter in Place lifted'"
      ],
      "text/markdown": [
       "'Number of days since Shelter in Place lifted'"
      ],
      "text/plain": [
       "[1] \"Number of days since Shelter in Place lifted\""
      ]
     },
     "metadata": {},
     "output_type": "display_data"
    },
    {
     "data": {
      "text/html": [
       "<style>\n",
       ".list-inline {list-style: none; margin:0; padding: 0}\n",
       ".list-inline>li {display: inline-block}\n",
       ".list-inline>li:not(:last-child)::after {content: \"\\00b7\"; padding: 0 .5ex}\n",
       "</style>\n",
       "<ol class=list-inline><li>26</li><li>27</li><li>46</li><li>46</li><li>&lt;NA&gt;</li><li>&lt;NA&gt;</li><li>32</li><li>0</li><li>69</li><li>58</li><li>45</li><li>95</li><li>&lt;NA&gt;</li><li>37</li><li>69</li><li>54</li><li>0</li><li>35</li><li>0</li><li>53</li><li>60</li><li>46</li><li>55</li><li>69</li><li>51</li><li>24</li><li>28</li><li>29</li><li>0</li><li>39</li><li>80</li><li>&lt;NA&gt;</li><li>105</li><li>&lt;NA&gt;</li><li>53</li><li>0</li><li>57</li><li>0</li><li>88</li><li>65</li><li>42</li><li>27</li><li>0</li><li>29</li><li>0</li><li>0</li><li>51</li><li>60</li><li>70</li><li>41</li><li>49</li><li>0</li></ol>\n"
      ],
      "text/latex": [
       "\\begin{enumerate*}\n",
       "\\item 26\n",
       "\\item 27\n",
       "\\item 46\n",
       "\\item 46\n",
       "\\item <NA>\n",
       "\\item <NA>\n",
       "\\item 32\n",
       "\\item 0\n",
       "\\item 69\n",
       "\\item 58\n",
       "\\item 45\n",
       "\\item 95\n",
       "\\item <NA>\n",
       "\\item 37\n",
       "\\item 69\n",
       "\\item 54\n",
       "\\item 0\n",
       "\\item 35\n",
       "\\item 0\n",
       "\\item 53\n",
       "\\item 60\n",
       "\\item 46\n",
       "\\item 55\n",
       "\\item 69\n",
       "\\item 51\n",
       "\\item 24\n",
       "\\item 28\n",
       "\\item 29\n",
       "\\item 0\n",
       "\\item 39\n",
       "\\item 80\n",
       "\\item <NA>\n",
       "\\item 105\n",
       "\\item <NA>\n",
       "\\item 53\n",
       "\\item 0\n",
       "\\item 57\n",
       "\\item 0\n",
       "\\item 88\n",
       "\\item 65\n",
       "\\item 42\n",
       "\\item 27\n",
       "\\item 0\n",
       "\\item 29\n",
       "\\item 0\n",
       "\\item 0\n",
       "\\item 51\n",
       "\\item 60\n",
       "\\item 70\n",
       "\\item 41\n",
       "\\item 49\n",
       "\\item 0\n",
       "\\end{enumerate*}\n"
      ],
      "text/markdown": [
       "1. 26\n",
       "2. 27\n",
       "3. 46\n",
       "4. 46\n",
       "5. &lt;NA&gt;\n",
       "6. &lt;NA&gt;\n",
       "7. 32\n",
       "8. 0\n",
       "9. 69\n",
       "10. 58\n",
       "11. 45\n",
       "12. 95\n",
       "13. &lt;NA&gt;\n",
       "14. 37\n",
       "15. 69\n",
       "16. 54\n",
       "17. 0\n",
       "18. 35\n",
       "19. 0\n",
       "20. 53\n",
       "21. 60\n",
       "22. 46\n",
       "23. 55\n",
       "24. 69\n",
       "25. 51\n",
       "26. 24\n",
       "27. 28\n",
       "28. 29\n",
       "29. 0\n",
       "30. 39\n",
       "31. 80\n",
       "32. &lt;NA&gt;\n",
       "33. 105\n",
       "34. &lt;NA&gt;\n",
       "35. 53\n",
       "36. 0\n",
       "37. 57\n",
       "38. 0\n",
       "39. 88\n",
       "40. 65\n",
       "41. 42\n",
       "42. 27\n",
       "43. 0\n",
       "44. 29\n",
       "45. 0\n",
       "46. 0\n",
       "47. 51\n",
       "48. 60\n",
       "49. 70\n",
       "50. 41\n",
       "51. 49\n",
       "52. 0\n",
       "\n",
       "\n"
      ],
      "text/plain": [
       " [1]  26  27  46  46  NA  NA  32   0  69  58  45  95  NA  37  69  54   0  35   0\n",
       "[20]  53  60  46  55  69  51  24  28  29   0  39  80  NA 105  NA  53   0  57   0\n",
       "[39]  88  65  42  27   0  29   0   0  51  60  70  41  49   0"
      ]
     },
     "metadata": {},
     "output_type": "display_data"
    }
   ],
   "source": [
    "# get the 4 indexes updated\n",
    "endDate <- rep(as.Date(\"07/07/20\", format=\"%m/%d/%y\"), each = 4)\n",
    "stDate <- c(startS[5], startS[12], startS[32], startS[33])\n",
    "replDate <- as.data.frame(endDate - stDate)\n",
    "replDate <- replDate$`endDate - stDate`\n",
    "replDate <- strtoi(replDate)\n",
    "dsp[5] <- replDate[1]\n",
    "dsp[12] <- replDate[2]\n",
    "dsp[32] <- replDate[3]\n",
    "dsp[33] <- replDate[4]\n",
    "# convert string into integers\n",
    "dsp <- strtoi(dsp)\n",
    "# check if there are any NA left\n",
    "paste(\"Are there any NAs?: \", shelterEnd[which(is.na(dsp))])\n",
    "paste(\"Number of days since Shelter in Place lifted\")\n",
    "dsp"
   ]
  },
  {
   "cell_type": "markdown",
   "metadata": {},
   "source": [
    "### Model\n",
    "\n",
    "Through the above listed operationalized variables, let's enhance the regression model as:\n",
    "\n",
    "$log(Normalized Total Cases) = \\beta_0 + \\beta_1 . DaysUntilMaskMandated + \\beta_2 . DaysUntilBusinessesReopened + \\beta_3 . DaysUntilShelterInPlace + u$\n"
   ]
  },
  {
   "cell_type": "code",
   "execution_count": 29,
   "metadata": {},
   "outputs": [
    {
     "ename": "ERROR",
     "evalue": "Error in as.ggplot(~plot(model1, which = 1)): could not find function \"as.ggplot\"\n",
     "output_type": "error",
     "traceback": [
      "Error in as.ggplot(~plot(model1, which = 1)): could not find function \"as.ggplot\"\nTraceback:\n"
     ]
    }
   ],
   "source": [
    "model1 <- lm(log(tcd) ~ mm * drs * dsp)\n",
    "\n",
    "plot1 <- as.ggplot(~plot(model1, which = 1))\n",
    "plot2 <- as.ggplot(~plot(model1, which = 2))\n",
    "plot3 <- as.ggplot(~plot(model1, which = 3))\n",
    "plot4 <- as.ggplot(~plot(model1, which = 5))\n",
    "\n",
    "grid.arrange(plot1, plot2, layout_matrix = rbind(c(1,1,2,2),c(1,1,2,2)))\n",
    "grid.arrange(plot3, plot4, layout_matrix = rbind(c(1,1,2,2),c(1,1,2,2)))\n",
    "\n",
    "hist(model1$residuals)"
   ]
  },
  {
   "cell_type": "code",
   "execution_count": 30,
   "metadata": {},
   "outputs": [
    {
     "data": {
      "text/plain": [
       "\n",
       "t test of coefficients:\n",
       "\n",
       "               Estimate  Std. Error t value Pr(>|t|)  \n",
       "(Intercept)  1.3592e+01  6.4172e+00  2.1181  0.04059 *\n",
       "mm          -6.1292e-02  5.4872e-02 -1.1170  0.27083  \n",
       "drs         -1.8872e-01  1.7413e-01 -1.0838  0.28513  \n",
       "dsp         -1.3687e-01  1.3205e-01 -1.0365  0.30638  \n",
       "mm:drs       1.4866e-03  1.5401e-03  0.9652  0.34037  \n",
       "mm:dsp       9.8859e-04  1.2216e-03  0.8093  0.42328  \n",
       "drs:dsp      2.6041e-03  3.2636e-03  0.7979  0.42974  \n",
       "mm:drs:dsp  -1.6536e-05  3.0381e-05 -0.5443  0.58935  \n",
       "---\n",
       "Signif. codes:  0 ‘***’ 0.001 ‘**’ 0.01 ‘*’ 0.05 ‘.’ 0.1 ‘ ’ 1\n"
      ]
     },
     "metadata": {},
     "output_type": "display_data"
    },
    {
     "name": "stdout",
     "output_type": "stream",
     "text": [
      "\n",
      "=================================================\n",
      "                         Dependent variable:     \n",
      "                    -----------------------------\n",
      "                              log(tcd)           \n",
      "-------------------------------------------------\n",
      "mm                             -0.061            \n",
      "                                                 \n",
      "                                                 \n",
      "drs                            -0.189            \n",
      "                                                 \n",
      "                                                 \n",
      "dsp                            -0.137            \n",
      "                                                 \n",
      "                                                 \n",
      "mm:drs                          0.001            \n",
      "                                                 \n",
      "                                                 \n",
      "mm:dsp                          0.001            \n",
      "                                                 \n",
      "                                                 \n",
      "drs:dsp                         0.003            \n",
      "                                                 \n",
      "                                                 \n",
      "mm:drs:dsp                    -0.00002           \n",
      "                                                 \n",
      "                                                 \n",
      "Constant                       13.592*           \n",
      "                              p = 0.035          \n",
      "                                                 \n",
      "-------------------------------------------------\n",
      "Observations                     47              \n",
      "R2                              0.264            \n",
      "Adjusted R2                     0.131            \n",
      "Residual Std. Error        1.237 (df = 39)       \n",
      "=================================================\n",
      "Note:               *p<0.05; **p<0.01; ***p<0.001\n"
     ]
    }
   ],
   "source": [
    "# run the coeftest\n",
    "coeftest(model1, vcov = vcovHC)\n",
    "# get the Heteroskedastic Consistent variance-covariance vector\n",
    "se_model <- sqrt(diag(vcovHC(model1))) \n",
    "# stargazer output\n",
    "stargazer(model1, type = \"text\", omit.stat = \"f\",\n",
    "          se = se_model, #Using the robust standard error\n",
    "          report=('vc*p'),\n",
    "          star.cutoffs = c(0.05, 0.01, 0.001))"
   ]
  },
  {
   "cell_type": "markdown",
   "metadata": {},
   "source": [
    "## Model Improvement#2\n",
    "\n",
    "Let's further enhance the model by adding the following variables:\n",
    "\n",
    "- People living under federal poverty line\n",
    "- People at risk for serious illness due to COVID\n",
    "\n",
    "### Operationalization\n",
    "\n",
    "In order for us to consider these additional variables, let's examine the following:\n",
    "\n",
    "- `Percent.living.under.the.federal.poverty.line..2018`\n",
    "- `Percent.at.risk.for.serious.illness.due.to.COVID`\n",
    "- `Population.2018`\n",
    "\n",
    "We can get the people living under poverty line by multiplying the population with the percent living under poverty line. Similar is the case for the people at risk for serious illness."
   ]
  },
  {
   "cell_type": "code",
   "execution_count": 34,
   "metadata": {},
   "outputs": [
    {
     "data": {
      "text/plain": [
       "   Min. 1st Qu.  Median    Mean 3rd Qu.    Max. \n",
       "   7.60   10.97   12.85   12.93   14.15   19.70 "
      ]
     },
     "metadata": {},
     "output_type": "display_data"
    },
    {
     "data": {
      "text/plain": [
       "   Min. 1st Qu.  Median    Mean 3rd Qu.    Max. \n",
       "  30.00   35.98   38.65   38.16   40.58   49.30 "
      ]
     },
     "metadata": {},
     "output_type": "display_data"
    },
    {
     "data": {
      "text/plain": [
       "    Min.  1st Qu.   Median     Mean  3rd Qu.     Max. \n",
       "  577737  1792926  4564190  6429598  7262632 39557045 "
      ]
     },
     "metadata": {},
     "output_type": "display_data"
    },
    {
     "data": {
      "text/html": [
       "<style>\n",
       ".list-inline {list-style: none; margin:0; padding: 0}\n",
       ".list-inline>li {display: inline-block}\n",
       ".list-inline>li:not(:last-child)::after {content: \"\\00b7\"; padding: 0 .5ex}\n",
       "</style>\n",
       "<ol class=list-inline><li>43.1</li><li>32.8</li><li>39.1</li><li>39.1</li><li>43.5</li><li>33.3</li><li>31.3</li><li>36</li><li>41.3</li><li>31.8</li><li>42.1</li><li>36.2</li><li>39.1</li><li>36.2</li><li>36.2</li><li>39.9</li><li>36.9</li><li>38</li><li>43.6</li><li>42.1</li><li>42.5</li><li>37.1</li><li>34.6</li><li>41.2</li><li>33.9</li><li>42.5</li><li>40.5</li><li>39</li><li>36.6</li><li>36.1</li><li>40.5</li><li>34.6</li><li>39.4</li><li>36.9</li><li>39</li><li>34.6</li><li>39.8</li><li>40.8</li><li>39.8</li><li>39.8</li><li>38.3</li><li>41.4</li><li>35.3</li><li>41.6</li><li>34.8</li><li>30</li><li>39.1</li><li>35.9</li><li>35.1</li><li>49.3</li><li>36.5</li><li>36.4</li></ol>\n"
      ],
      "text/latex": [
       "\\begin{enumerate*}\n",
       "\\item 43.1\n",
       "\\item 32.8\n",
       "\\item 39.1\n",
       "\\item 39.1\n",
       "\\item 43.5\n",
       "\\item 33.3\n",
       "\\item 31.3\n",
       "\\item 36\n",
       "\\item 41.3\n",
       "\\item 31.8\n",
       "\\item 42.1\n",
       "\\item 36.2\n",
       "\\item 39.1\n",
       "\\item 36.2\n",
       "\\item 36.2\n",
       "\\item 39.9\n",
       "\\item 36.9\n",
       "\\item 38\n",
       "\\item 43.6\n",
       "\\item 42.1\n",
       "\\item 42.5\n",
       "\\item 37.1\n",
       "\\item 34.6\n",
       "\\item 41.2\n",
       "\\item 33.9\n",
       "\\item 42.5\n",
       "\\item 40.5\n",
       "\\item 39\n",
       "\\item 36.6\n",
       "\\item 36.1\n",
       "\\item 40.5\n",
       "\\item 34.6\n",
       "\\item 39.4\n",
       "\\item 36.9\n",
       "\\item 39\n",
       "\\item 34.6\n",
       "\\item 39.8\n",
       "\\item 40.8\n",
       "\\item 39.8\n",
       "\\item 39.8\n",
       "\\item 38.3\n",
       "\\item 41.4\n",
       "\\item 35.3\n",
       "\\item 41.6\n",
       "\\item 34.8\n",
       "\\item 30\n",
       "\\item 39.1\n",
       "\\item 35.9\n",
       "\\item 35.1\n",
       "\\item 49.3\n",
       "\\item 36.5\n",
       "\\item 36.4\n",
       "\\end{enumerate*}\n"
      ],
      "text/markdown": [
       "1. 43.1\n",
       "2. 32.8\n",
       "3. 39.1\n",
       "4. 39.1\n",
       "5. 43.5\n",
       "6. 33.3\n",
       "7. 31.3\n",
       "8. 36\n",
       "9. 41.3\n",
       "10. 31.8\n",
       "11. 42.1\n",
       "12. 36.2\n",
       "13. 39.1\n",
       "14. 36.2\n",
       "15. 36.2\n",
       "16. 39.9\n",
       "17. 36.9\n",
       "18. 38\n",
       "19. 43.6\n",
       "20. 42.1\n",
       "21. 42.5\n",
       "22. 37.1\n",
       "23. 34.6\n",
       "24. 41.2\n",
       "25. 33.9\n",
       "26. 42.5\n",
       "27. 40.5\n",
       "28. 39\n",
       "29. 36.6\n",
       "30. 36.1\n",
       "31. 40.5\n",
       "32. 34.6\n",
       "33. 39.4\n",
       "34. 36.9\n",
       "35. 39\n",
       "36. 34.6\n",
       "37. 39.8\n",
       "38. 40.8\n",
       "39. 39.8\n",
       "40. 39.8\n",
       "41. 38.3\n",
       "42. 41.4\n",
       "43. 35.3\n",
       "44. 41.6\n",
       "45. 34.8\n",
       "46. 30\n",
       "47. 39.1\n",
       "48. 35.9\n",
       "49. 35.1\n",
       "50. 49.3\n",
       "51. 36.5\n",
       "52. 36.4\n",
       "\n",
       "\n"
      ],
      "text/plain": [
       " [1] 43.1 32.8 39.1 39.1 43.5 33.3 31.3 36.0 41.3 31.8 42.1 36.2 39.1 36.2 36.2\n",
       "[16] 39.9 36.9 38.0 43.6 42.1 42.5 37.1 34.6 41.2 33.9 42.5 40.5 39.0 36.6 36.1\n",
       "[31] 40.5 34.6 39.4 36.9 39.0 34.6 39.8 40.8 39.8 39.8 38.3 41.4 35.3 41.6 34.8\n",
       "[46] 30.0 39.1 35.9 35.1 49.3 36.5 36.4"
      ]
     },
     "metadata": {},
     "output_type": "display_data"
    },
    {
     "data": {
      "text/html": [
       "<style>\n",
       ".list-inline {list-style: none; margin:0; padding: 0}\n",
       ".list-inline>li {display: inline-block}\n",
       ".list-inline>li:not(:last-child)::after {content: \"\\00b7\"; padding: 0 .5ex}\n",
       "</style>\n",
       "<ol class=list-inline><li>16.8</li><li>10.9</li><li>14</li><li>14</li><li>17.2</li><li>12.8</li><li>9.6</li><li>10.4</li><li>12.5</li><li>16.2</li><li>13.6</li><li>14.3</li><li>8.8</li><li>11.8</li><li>12.1</li><li>13.1</li><li>11.2</li><li>12</li><li>16.9</li><li>18.6</li><li>11.6</li><li>9</li><li>10</li><li>14.1</li><li>9.6</li><li>19.7</li><li>13.2</li><li>13</li><li>11</li><li>12.9</li><li>7.6</li><li>9.5</li><li>19.5</li><li>13.6</li><li>14</li><li>10.7</li><li>13.9</li><li>15.6</li><li>12.6</li><li>12.2</li><li>12.9</li><li>15.3</li><li>13.1</li><li>15.3</li><li>14.9</li><li>9</li><li>11</li><li>10.7</li><li>10.3</li><li>17.8</li><li>11</li><li>11.1</li></ol>\n"
      ],
      "text/latex": [
       "\\begin{enumerate*}\n",
       "\\item 16.8\n",
       "\\item 10.9\n",
       "\\item 14\n",
       "\\item 14\n",
       "\\item 17.2\n",
       "\\item 12.8\n",
       "\\item 9.6\n",
       "\\item 10.4\n",
       "\\item 12.5\n",
       "\\item 16.2\n",
       "\\item 13.6\n",
       "\\item 14.3\n",
       "\\item 8.8\n",
       "\\item 11.8\n",
       "\\item 12.1\n",
       "\\item 13.1\n",
       "\\item 11.2\n",
       "\\item 12\n",
       "\\item 16.9\n",
       "\\item 18.6\n",
       "\\item 11.6\n",
       "\\item 9\n",
       "\\item 10\n",
       "\\item 14.1\n",
       "\\item 9.6\n",
       "\\item 19.7\n",
       "\\item 13.2\n",
       "\\item 13\n",
       "\\item 11\n",
       "\\item 12.9\n",
       "\\item 7.6\n",
       "\\item 9.5\n",
       "\\item 19.5\n",
       "\\item 13.6\n",
       "\\item 14\n",
       "\\item 10.7\n",
       "\\item 13.9\n",
       "\\item 15.6\n",
       "\\item 12.6\n",
       "\\item 12.2\n",
       "\\item 12.9\n",
       "\\item 15.3\n",
       "\\item 13.1\n",
       "\\item 15.3\n",
       "\\item 14.9\n",
       "\\item 9\n",
       "\\item 11\n",
       "\\item 10.7\n",
       "\\item 10.3\n",
       "\\item 17.8\n",
       "\\item 11\n",
       "\\item 11.1\n",
       "\\end{enumerate*}\n"
      ],
      "text/markdown": [
       "1. 16.8\n",
       "2. 10.9\n",
       "3. 14\n",
       "4. 14\n",
       "5. 17.2\n",
       "6. 12.8\n",
       "7. 9.6\n",
       "8. 10.4\n",
       "9. 12.5\n",
       "10. 16.2\n",
       "11. 13.6\n",
       "12. 14.3\n",
       "13. 8.8\n",
       "14. 11.8\n",
       "15. 12.1\n",
       "16. 13.1\n",
       "17. 11.2\n",
       "18. 12\n",
       "19. 16.9\n",
       "20. 18.6\n",
       "21. 11.6\n",
       "22. 9\n",
       "23. 10\n",
       "24. 14.1\n",
       "25. 9.6\n",
       "26. 19.7\n",
       "27. 13.2\n",
       "28. 13\n",
       "29. 11\n",
       "30. 12.9\n",
       "31. 7.6\n",
       "32. 9.5\n",
       "33. 19.5\n",
       "34. 13.6\n",
       "35. 14\n",
       "36. 10.7\n",
       "37. 13.9\n",
       "38. 15.6\n",
       "39. 12.6\n",
       "40. 12.2\n",
       "41. 12.9\n",
       "42. 15.3\n",
       "43. 13.1\n",
       "44. 15.3\n",
       "45. 14.9\n",
       "46. 9\n",
       "47. 11\n",
       "48. 10.7\n",
       "49. 10.3\n",
       "50. 17.8\n",
       "51. 11\n",
       "52. 11.1\n",
       "\n",
       "\n"
      ],
      "text/plain": [
       " [1] 16.8 10.9 14.0 14.0 17.2 12.8  9.6 10.4 12.5 16.2 13.6 14.3  8.8 11.8 12.1\n",
       "[16] 13.1 11.2 12.0 16.9 18.6 11.6  9.0 10.0 14.1  9.6 19.7 13.2 13.0 11.0 12.9\n",
       "[31]  7.6  9.5 19.5 13.6 14.0 10.7 13.9 15.6 12.6 12.2 12.9 15.3 13.1 15.3 14.9\n",
       "[46]  9.0 11.0 10.7 10.3 17.8 11.0 11.1"
      ]
     },
     "metadata": {},
     "output_type": "display_data"
    },
    {
     "data": {
      "text/html": [
       "<style>\n",
       ".list-inline {list-style: none; margin:0; padding: 0}\n",
       ".list-inline>li {display: inline-block}\n",
       ".list-inline>li:not(:last-child)::after {content: \"\\00b7\"; padding: 0 .5ex}\n",
       "</style>\n",
       "<ol class=list-inline><li>4887871</li><li>737438</li><li>7171646</li><li>7171646</li><li>3013825</li><li>39557045</li><li>5695564</li><li>3572665</li><li>967171</li><li>702455</li><li>21299325</li><li>10519475</li><li>1420491</li><li>1754208</li><li>12741080</li><li>6691878</li><li>3156145</li><li>2911505</li><li>4468402</li><li>4659978</li><li>1338404</li><li>6042718</li><li>6902149</li><li>9995915</li><li>5611179</li><li>2986530</li><li>6126452</li><li>1062305</li><li>1929268</li><li>3034392</li><li>1356458</li><li>8908520</li><li>2095428</li><li>19542209</li><li>10383620</li><li>760077</li><li>11689442</li><li>3943079</li><li>4190713</li><li>12807060</li><li>1057315</li><li>5084127</li><li>882235</li><li>6770010</li><li>28701845</li><li>3161105</li><li>626299</li><li>8517685</li><li>7535591</li><li>1805832</li><li>5813568</li><li>577737</li></ol>\n"
      ],
      "text/latex": [
       "\\begin{enumerate*}\n",
       "\\item 4887871\n",
       "\\item 737438\n",
       "\\item 7171646\n",
       "\\item 7171646\n",
       "\\item 3013825\n",
       "\\item 39557045\n",
       "\\item 5695564\n",
       "\\item 3572665\n",
       "\\item 967171\n",
       "\\item 702455\n",
       "\\item 21299325\n",
       "\\item 10519475\n",
       "\\item 1420491\n",
       "\\item 1754208\n",
       "\\item 12741080\n",
       "\\item 6691878\n",
       "\\item 3156145\n",
       "\\item 2911505\n",
       "\\item 4468402\n",
       "\\item 4659978\n",
       "\\item 1338404\n",
       "\\item 6042718\n",
       "\\item 6902149\n",
       "\\item 9995915\n",
       "\\item 5611179\n",
       "\\item 2986530\n",
       "\\item 6126452\n",
       "\\item 1062305\n",
       "\\item 1929268\n",
       "\\item 3034392\n",
       "\\item 1356458\n",
       "\\item 8908520\n",
       "\\item 2095428\n",
       "\\item 19542209\n",
       "\\item 10383620\n",
       "\\item 760077\n",
       "\\item 11689442\n",
       "\\item 3943079\n",
       "\\item 4190713\n",
       "\\item 12807060\n",
       "\\item 1057315\n",
       "\\item 5084127\n",
       "\\item 882235\n",
       "\\item 6770010\n",
       "\\item 28701845\n",
       "\\item 3161105\n",
       "\\item 626299\n",
       "\\item 8517685\n",
       "\\item 7535591\n",
       "\\item 1805832\n",
       "\\item 5813568\n",
       "\\item 577737\n",
       "\\end{enumerate*}\n"
      ],
      "text/markdown": [
       "1. 4887871\n",
       "2. 737438\n",
       "3. 7171646\n",
       "4. 7171646\n",
       "5. 3013825\n",
       "6. 39557045\n",
       "7. 5695564\n",
       "8. 3572665\n",
       "9. 967171\n",
       "10. 702455\n",
       "11. 21299325\n",
       "12. 10519475\n",
       "13. 1420491\n",
       "14. 1754208\n",
       "15. 12741080\n",
       "16. 6691878\n",
       "17. 3156145\n",
       "18. 2911505\n",
       "19. 4468402\n",
       "20. 4659978\n",
       "21. 1338404\n",
       "22. 6042718\n",
       "23. 6902149\n",
       "24. 9995915\n",
       "25. 5611179\n",
       "26. 2986530\n",
       "27. 6126452\n",
       "28. 1062305\n",
       "29. 1929268\n",
       "30. 3034392\n",
       "31. 1356458\n",
       "32. 8908520\n",
       "33. 2095428\n",
       "34. 19542209\n",
       "35. 10383620\n",
       "36. 760077\n",
       "37. 11689442\n",
       "38. 3943079\n",
       "39. 4190713\n",
       "40. 12807060\n",
       "41. 1057315\n",
       "42. 5084127\n",
       "43. 882235\n",
       "44. 6770010\n",
       "45. 28701845\n",
       "46. 3161105\n",
       "47. 626299\n",
       "48. 8517685\n",
       "49. 7535591\n",
       "50. 1805832\n",
       "51. 5813568\n",
       "52. 577737\n",
       "\n",
       "\n"
      ],
      "text/plain": [
       " [1]  4887871   737438  7171646  7171646  3013825 39557045  5695564  3572665\n",
       " [9]   967171   702455 21299325 10519475  1420491  1754208 12741080  6691878\n",
       "[17]  3156145  2911505  4468402  4659978  1338404  6042718  6902149  9995915\n",
       "[25]  5611179  2986530  6126452  1062305  1929268  3034392  1356458  8908520\n",
       "[33]  2095428 19542209 10383620   760077 11689442  3943079  4190713 12807060\n",
       "[41]  1057315  5084127   882235  6770010 28701845  3161105   626299  8517685\n",
       "[49]  7535591  1805832  5813568   577737"
      ]
     },
     "metadata": {},
     "output_type": "display_data"
    }
   ],
   "source": [
    "pdp <- ds$Population.2018 * ds$Percent.living.under.the.federal.poverty.line..2018.\n",
    "prs <- ds$Population.2018 * ds$Percent.at.risk.for.serious.illness.due.to.COVID\n",
    "summary(ds$Percent.living.under.the.federal.poverty.line..2018.)\n",
    "summary(ds$Percent.at.risk.for.serious.illness.due.to.COVID)\n",
    "summary(ds$Population.2018)\n",
    "ds$Percent.at.risk.for.serious.illness.due.to.COVID\n",
    "ds$Percent.living.under.the.federal.poverty.line..2018.\n",
    "ds$Population.2018"
   ]
  },
  {
   "cell_type": "markdown",
   "metadata": {},
   "source": [
    "There does not seem to be any data anamolies for the 3 variables considered for this model improvement #2.\n",
    "\n",
    "### Model\n",
    "\n",
    "Through the above listed operationalized variables, let's enhance the regression model further as:\n",
    "\n",
    "$log(Normalized Total Cases) = \\beta_0 + \\beta_1 . DaysUntilMaskMandated + \\beta_2 . DaysUntilBusinessesReopened + \\beta_3 . DaysUntilShelterInPlace + \\beta_4 . log(PeopleUnderPovertyLine) + \\beta_5 . log(PeopleAtRiskForSeriousIllness) + u$"
   ]
  },
  {
   "cell_type": "code",
   "execution_count": 35,
   "metadata": {},
   "outputs": [
    {
     "ename": "ERROR",
     "evalue": "Error in as.ggplot(~plot(model2, which = 1)): could not find function \"as.ggplot\"\n",
     "output_type": "error",
     "traceback": [
      "Error in as.ggplot(~plot(model2, which = 1)): could not find function \"as.ggplot\"\nTraceback:\n"
     ]
    }
   ],
   "source": [
    "model2 <- lm(log(tcd) ~ mm * drs * dsp + log(pdp) + log(prs))\n",
    "\n",
    "plot1 <- as.ggplot(~plot(model2, which = 1))\n",
    "plot2 <- as.ggplot(~plot(model2, which = 2))\n",
    "plot3 <- as.ggplot(~plot(model2, which = 3))\n",
    "plot4 <- as.ggplot(~plot(model2, which = 5))\n",
    "\n",
    "grid.arrange(plot1, plot2, layout_matrix = rbind(c(1,1,2,2),c(1,1,2,2)))\n",
    "grid.arrange(plot3, plot4, layout_matrix = rbind(c(1,1,2,2),c(1,1,2,2)))\n",
    "\n",
    "hist(model2$residuals)"
   ]
  },
  {
   "cell_type": "code",
   "execution_count": 33,
   "metadata": {},
   "outputs": [
    {
     "data": {
      "text/plain": [
       "\n",
       "t test of coefficients:\n",
       "\n",
       "               Estimate  Std. Error t value Pr(>|t|)\n",
       "(Intercept)  5.0516e-01  9.7137e+00  0.0520   0.9588\n",
       "mm          -7.1502e-02  6.1419e-02 -1.1642   0.2518\n",
       "drs         -2.2093e-01  1.8939e-01 -1.1665   0.2509\n",
       "dsp         -1.4667e-01  1.2380e-01 -1.1847   0.2437\n",
       "log(pdp)    -5.6557e-01  2.3339e+00 -0.2423   0.8099\n",
       "log(prs)     1.3369e+00  2.6633e+00  0.5020   0.6186\n",
       "mm:drs       1.5821e-03  1.6819e-03  0.9406   0.3530\n",
       "mm:dsp       9.4465e-04  1.1970e-03  0.7892   0.4350\n",
       "drs:dsp      2.8579e-03  3.0966e-03  0.9229   0.3620\n",
       "mm:drs:dsp  -1.7399e-05  2.9410e-05 -0.5916   0.5577\n"
      ]
     },
     "metadata": {},
     "output_type": "display_data"
    },
    {
     "name": "stdout",
     "output_type": "stream",
     "text": [
      "\n",
      "=================================================\n",
      "                         Dependent variable:     \n",
      "                    -----------------------------\n",
      "                              log(tcd)           \n",
      "-------------------------------------------------\n",
      "mm                             -0.072            \n",
      "                                                 \n",
      "                                                 \n",
      "drs                            -0.221            \n",
      "                                                 \n",
      "                                                 \n",
      "dsp                            -0.147            \n",
      "                                                 \n",
      "                                                 \n",
      "log(pdp)                       -0.566            \n",
      "                                                 \n",
      "                                                 \n",
      "log(prs)                        1.337            \n",
      "                                                 \n",
      "                                                 \n",
      "mm:drs                          0.002            \n",
      "                                                 \n",
      "                                                 \n",
      "mm:dsp                          0.001            \n",
      "                                                 \n",
      "                                                 \n",
      "drs:dsp                         0.003            \n",
      "                                                 \n",
      "                                                 \n",
      "mm:drs:dsp                    -0.00002           \n",
      "                                                 \n",
      "                                                 \n",
      "Constant                        0.505            \n",
      "                              p = 0.959          \n",
      "                                                 \n",
      "-------------------------------------------------\n",
      "Observations                     47              \n",
      "R2                              0.526            \n",
      "Adjusted R2                     0.410            \n",
      "Residual Std. Error        1.019 (df = 37)       \n",
      "=================================================\n",
      "Note:               *p<0.05; **p<0.01; ***p<0.001\n"
     ]
    }
   ],
   "source": [
    "# run the coeftest\n",
    "coeftest(model2, vcov = vcovHC)\n",
    "# get the Heteroskedastic Consistent variance-covariance vector\n",
    "se_model <- sqrt(diag(vcovHC(model2))) \n",
    "# stargazer output\n",
    "stargazer(model2, type = \"text\", omit.stat = \"f\",\n",
    "          se = se_model, #Using the robust standard error\n",
    "          report=('vc*p'),\n",
    "          star.cutoffs = c(0.05, 0.01, 0.001))"
   ]
  },
  {
   "cell_type": "code",
   "execution_count": null,
   "metadata": {},
   "outputs": [],
   "source": []
  }
 ],
 "metadata": {
  "kernelspec": {
   "display_name": "R",
   "language": "R",
   "name": "ir"
  },
  "language_info": {
   "codemirror_mode": "r",
   "file_extension": ".r",
   "mimetype": "text/x-r-source",
   "name": "R",
   "pygments_lexer": "r",
   "version": "4.0.0"
  }
 },
 "nbformat": 4,
 "nbformat_minor": 4
}
